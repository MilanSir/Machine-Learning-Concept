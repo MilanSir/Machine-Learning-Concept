{
  "cells": [
    {
      "cell_type": "markdown",
      "metadata": {
        "id": "BOdrmHtnUTE_"
      },
      "source": [
        "# Machine Learning Lab 1B:- Explorating of sklearn library\n",
        "<hr/>\n",
        "\n",
        "Submitted by<br>\n",
        "Name: **Milan Jasani** <br>\n",
        "Register No: **21122026**<br>\n",
        "Class: **MSCDS**<br>\n",
        "<hr/>"
      ]
    },
    {
      "cell_type": "markdown",
      "metadata": {
        "id": "tMRI-PhPUTFC"
      },
      "source": [
        "### Sections\n",
        "Here, you mention the sections you have defined in the below code. For this lab, the sections are -\n",
        "1. Lab Overview\n",
        "1. Explore the subparts of the module sklearn\n",
        "    1. train_test_split from sklearn.model_selection\n",
        "    1. make_classification and load_iris from sklearn.datasets\n",
        "    1. make_regression and load_boston from sklearn.datasets\n",
        "    1. DummyClassifier and DummyRegressor from sklearn.dummy\n",
        "    1. accuracy_score, classification_report, and confusion_matrix from sklearn.metrics\n",
        "1. Questions\n",
        "    1. What are the different parameters of the above functions/methods that are part of the above SKLearn modules?\n",
        "    1. What is the effect, when you modify certain parameters that are present in the same?\n",
        "    1. How to get different train and test datasets?\n",
        "    1. Identify which are features and which are targets in Part 1b, and Part 1c (make_classification and make_regression would depend on your inputs on the function call)\n",
        "    1. Identify what the things mentioned in Part 1d stands for. \n",
        "    1. Making use of Part 1d, explore the various options available under Part 1e.\n",
        "1. Conclusion\n",
        "1. References"
      ]
    },
    {
      "cell_type": "markdown",
      "metadata": {
        "id": "6BG3FAX-UTFD"
      },
      "source": [
        "## 1. Lab Overview  \n",
        "### Objectives\n",
        "1. Explore the subparts of the module sklearn\n",
        "    1. train_test_split from sklearn.model_selection\n",
        "    1. make_classification and load_iris from sklearn.datasets\n",
        "    1. make_regression and load_boston from sklearn.datasets\n",
        "    1. DummyClassifier and DummyRegressor from sklearn.dummy\n",
        "    1. accuracy_score, classification_report, and confusion_matrix from sklearn.metrics\n",
        "1. Questions\n",
        "    1. What are the different parameters of the above functions/methods that are part of the above SKLearn modules?\n",
        "    1. What is the effect, when you modify certain parameters that are present in the same?\n",
        "    1. How to get different train and test datasets?\n",
        "    1. Identify which are features and which are targets in Part 1b, and Part 1c (make_classification and make_regression would depend on your inputs on the function call)\n",
        "    1. Identify what the things mentioned in Part 1d stands for. \n",
        "    1. Making use of Part 1d, explore the various options available under Part 1e."
      ]
    },
    {
      "cell_type": "markdown",
      "metadata": {
        "id": "ZDUm6J0HUTFE"
      },
      "source": [
        "## 2. Explore the Subparts of the module sklearn"
      ]
    },
    {
      "cell_type": "markdown",
      "metadata": {
        "id": "3wceNNJ2UTFE"
      },
      "source": [
        "###  A. train_test_split from sklearn.model_selection"
      ]
    },
    {
      "cell_type": "markdown",
      "metadata": {
        "id": "89XvXf4DUTFE"
      },
      "source": [
        "### Abput this Module\n",
        "- train_test_split is a function in Sklearn model selection for splitting data arrays into two subsets: for training data and for testing data. With this function, you don't need to divide the dataset manually.\n",
        "\n",
        "- By default, Sklearn train_test_split will make random partitions for the two subsets. However, you can also specify a random state for the operation.\n",
        "\n",
        "- Using the same dataset for both training and testing leaves room for miscalculations, thus increases the chances of inaccurate predictions.\n",
        "\n",
        "- The train_test_split function allows you to break a dataset with ease while pursuing an ideal model. Also, keep in mind that your model should not be overfitting or underfitting.\n",
        "\n",
        "- *** Syntax with the parameter ***\n",
        "> train_test_split(X, y, train_size=0.***,test_size=0.****, random_state=*)"
      ]
    },
    {
      "cell_type": "markdown",
      "metadata": {
        "id": "3hS2rSt2UTFF"
      },
      "source": [
        "#### Importing module"
      ]
    },
    {
      "cell_type": "code",
      "execution_count": null,
      "metadata": {
        "id": "z91PeNaKUTFG"
      },
      "outputs": [],
      "source": [
        "from sklearn.model_selection import train_test_split"
      ]
    },
    {
      "cell_type": "markdown",
      "metadata": {
        "id": "QLgoRmBdUTFH"
      },
      "source": [
        "#### Example"
      ]
    },
    {
      "cell_type": "code",
      "execution_count": null,
      "metadata": {
        "id": "HWrHXiraUTFI",
        "outputId": "eabc1c78-bcd0-45f7-e60a-447ebbc8d548"
      },
      "outputs": [
        {
          "data": {
            "text/plain": [
              "array([[0, 1],\n",
              "       [2, 3],\n",
              "       [4, 5],\n",
              "       [6, 7],\n",
              "       [8, 9]])"
            ]
          },
          "execution_count": 2,
          "metadata": {},
          "output_type": "execute_result"
        }
      ],
      "source": [
        "import numpy as np  # importing numpy module\n",
        "X, y = np.arange(10).reshape((5, 2)), range(5) # create X as a matrix and y as a list\n",
        "X "
      ]
    },
    {
      "cell_type": "code",
      "execution_count": null,
      "metadata": {
        "id": "TydX8Tr5UTFJ",
        "outputId": "5ca90640-a5a6-46df-fc52-a50a8cd3f848"
      },
      "outputs": [
        {
          "data": {
            "text/plain": [
              "[0, 1, 2, 3, 4]"
            ]
          },
          "execution_count": 4,
          "metadata": {},
          "output_type": "execute_result"
        }
      ],
      "source": [
        "list(y)"
      ]
    },
    {
      "cell_type": "code",
      "execution_count": null,
      "metadata": {
        "id": "YFwojUM9UTFJ"
      },
      "outputs": [],
      "source": [
        "X_train, X_test, y_train, y_test = train_test_split(X,y,test_size=0.33,random_state=42) # split train and test data"
      ]
    },
    {
      "cell_type": "code",
      "execution_count": null,
      "metadata": {
        "id": "rUY1U4O9UTFJ",
        "outputId": "688a329b-db33-4156-9003-9c691cd105bf"
      },
      "outputs": [
        {
          "data": {
            "text/plain": [
              "array([[4, 5],\n",
              "       [0, 1],\n",
              "       [6, 7]])"
            ]
          },
          "execution_count": 6,
          "metadata": {},
          "output_type": "execute_result"
        }
      ],
      "source": [
        "X_train"
      ]
    },
    {
      "cell_type": "code",
      "execution_count": null,
      "metadata": {
        "id": "nIMsNymnUTFJ",
        "outputId": "caa50a61-d957-4370-9a9c-71d158268469"
      },
      "outputs": [
        {
          "data": {
            "text/plain": [
              "[2, 0, 3]"
            ]
          },
          "execution_count": 7,
          "metadata": {},
          "output_type": "execute_result"
        }
      ],
      "source": [
        "y_train"
      ]
    },
    {
      "cell_type": "code",
      "execution_count": null,
      "metadata": {
        "id": "ZP40fqj_UTFK",
        "outputId": "b1631de5-b11d-4aa0-8579-bd63a9707228"
      },
      "outputs": [
        {
          "data": {
            "text/plain": [
              "array([[2, 3],\n",
              "       [8, 9]])"
            ]
          },
          "execution_count": 8,
          "metadata": {},
          "output_type": "execute_result"
        }
      ],
      "source": [
        "X_test"
      ]
    },
    {
      "cell_type": "code",
      "execution_count": null,
      "metadata": {
        "id": "B5YEK_FGUTFK",
        "outputId": "b96e26b9-fd00-45ae-b28f-b800018bb7f9"
      },
      "outputs": [
        {
          "data": {
            "text/plain": [
              "[1, 4]"
            ]
          },
          "execution_count": 9,
          "metadata": {},
          "output_type": "execute_result"
        }
      ],
      "source": [
        "y_test"
      ]
    },
    {
      "cell_type": "code",
      "execution_count": null,
      "metadata": {
        "id": "MS0ptVVyUTFK",
        "outputId": "bff313cc-0d57-4cfc-e214-1f8d2516903c"
      },
      "outputs": [
        {
          "data": {
            "text/plain": [
              "[[0, 1, 2], [3, 4]]"
            ]
          },
          "execution_count": 10,
          "metadata": {},
          "output_type": "execute_result"
        }
      ],
      "source": [
        "train_test_split(y, shuffle=False)"
      ]
    },
    {
      "cell_type": "markdown",
      "metadata": {
        "id": "pEoXQ3uXUTFL"
      },
      "source": [
        "### B. make_classification and load_iris from sklearn.datasets"
      ]
    },
    {
      "cell_type": "markdown",
      "metadata": {
        "id": "mHctY6JvUTFL"
      },
      "source": [
        "#### About the make_classification module\n",
        "\n",
        "- Generate a random n-class classification problem.\n",
        "\n",
        "- This initially creates clusters of points normally distributed (std=1) about vertices of a 2 * class_sep-sided hypercube, and assigns an equal number of clusters to each class. It introduces interdependence between these features and adds various types of further noise to the data.\n",
        "\n",
        "- Prior to shuffling, X stacks a number of these primary \"informative\" features, \"redundant\" linear combinations of these, \"repeated\" duplicates of sampled features, and arbitrary noise for and remaining features.4\n",
        "\n",
        "- *** Syntax with the parameter ***\n",
        "> sklearn.datasets.make_classification(n_samples=100, n_features=20, *, n_informative=2, n_redundant=2, n_repeated=0, n_classes=2, n_clusters_per_class=2, weights=None, flip_y=0.01, class_sep=1.0, hypercube=True, shift=0.0, scale=1.0, shuffle=True, random_state=None)"
      ]
    },
    {
      "cell_type": "markdown",
      "metadata": {
        "id": "7nwJBGy2UTFL"
      },
      "source": [
        "#### Importing Module"
      ]
    },
    {
      "cell_type": "code",
      "execution_count": null,
      "metadata": {
        "id": "-xSGFwANUTFL"
      },
      "outputs": [],
      "source": [
        "from sklearn.datasets import make_classification"
      ]
    },
    {
      "cell_type": "markdown",
      "metadata": {
        "id": "8ATCrXIdUTFM"
      },
      "source": [
        "#### Example"
      ]
    },
    {
      "cell_type": "code",
      "execution_count": null,
      "metadata": {
        "id": "PZOZY_8GUTFM",
        "outputId": "e0cfde01-c023-42b9-82fc-1dfbcb58ea41"
      },
      "outputs": [
        {
          "data": {
            "text/plain": [
              "<matplotlib.collections.PathCollection at 0x1b3551a11f0>"
            ]
          },
          "execution_count": 27,
          "metadata": {},
          "output_type": "execute_result"
        },
        {
          "data": {
            "image/png": "[encoded data removed]",
            "text/plain": [
              "<Figure size 576x576 with 4 Axes>"
            ]
          },
          "metadata": {
            "needs_background": "light"
          },
          "output_type": "display_data"
        }
      ],
      "source": [
        "import matplotlib.pyplot as plt\n",
        "plt.figure(figsize=(8, 8))\n",
        "plt.subplots_adjust(bottom=0.05, top=0.9, left=0.05, right=0.95)\n",
        "\n",
        "plt.subplot(321)\n",
        "plt.title(\"One informative feature, one cluster per class\", fontsize=\"small\")\n",
        "X1, Y1 = make_classification(\n",
        "    n_features=2, n_redundant=0, n_informative=1, n_clusters_per_class=1\n",
        ")\n",
        "plt.scatter(X1[:, 0], X1[:, 1], marker=\"o\", c=Y1, s=25, edgecolor=\"k\")\n",
        "\n",
        "plt.subplot(322)\n",
        "plt.title(\"Two informative features, one cluster per class\", fontsize=\"small\")\n",
        "X1, Y1 = make_classification(\n",
        "    n_features=2, n_redundant=0, n_informative=2, n_clusters_per_class=1\n",
        ")\n",
        "plt.scatter(X1[:, 0], X1[:, 1], marker=\"o\", c=Y1, s=25, edgecolor=\"k\")\n",
        "\n",
        "plt.subplot(323)\n",
        "plt.title(\"Two informative features, two clusters per class\", fontsize=\"small\")\n",
        "X2, Y2 = make_classification(n_features=2, n_redundant=0, n_informative=2)\n",
        "plt.scatter(X2[:, 0], X2[:, 1], marker=\"o\", c=Y2, s=25, edgecolor=\"k\")\n",
        "\n",
        "plt.subplot(324)\n",
        "plt.title(\"Multi-class, two informative features, one cluster\", fontsize=\"small\")\n",
        "X1, Y1 = make_classification(\n",
        "    n_features=2, n_redundant=0, n_informative=2, n_clusters_per_class=1, n_classes=3\n",
        ")\n",
        "plt.scatter(X1[:, 0], X1[:, 1], marker=\"o\", c=Y1, s=25, edgecolor=\"k\")"
      ]
    },
    {
      "cell_type": "markdown",
      "metadata": {
        "id": "VPumzC2cUTFM"
      },
      "source": [
        "#### About load_iris module\n",
        "- The Iris dataset is one of the most popular datasets in data science. It is considered the ‘Hello World’ of machine learning and can be used to learn classification algorithms.\n",
        "\n",
        "- there are 4 features sepal length, sepal width, petal length and petal width and the target variable has 3 classes namely ‘setosa’, ‘versicolor’, and ‘virginica’. Objective for a multiclass classifier is to predict the target class given the values for the four features.\n",
        "\n",
        "- The ‘scikit-learn’ package already comes with the Iris dataset preloaded.\n",
        "\n",
        "- *** Syntax with the parameter ***\n",
        "\n",
        "> sklearn.datasets.load_iris(*, return_X_y=False, as_frame=False)"
      ]
    },
    {
      "cell_type": "markdown",
      "metadata": {
        "id": "VqVII9brUTFM"
      },
      "source": [
        "#### importing module"
      ]
    },
    {
      "cell_type": "code",
      "execution_count": null,
      "metadata": {
        "id": "bFqiVEeBUTFN"
      },
      "outputs": [],
      "source": [
        "from sklearn.datasets import load_iris"
      ]
    },
    {
      "cell_type": "markdown",
      "metadata": {
        "id": "nFrQr2WxUTFN"
      },
      "source": [
        "#### Example"
      ]
    },
    {
      "cell_type": "code",
      "execution_count": null,
      "metadata": {
        "id": "c9fv84oyUTFN",
        "outputId": "b28545ea-dc15-4ddc-b6cc-2032445ef8d9"
      },
      "outputs": [
        {
          "data": {
            "text/html": [
              "<div>\n",
              "<style scoped>\n",
              "    .dataframe tbody tr th:only-of-type {\n",
              "        vertical-align: middle;\n",
              "    }\n",
              "\n",
              "    .dataframe tbody tr th {\n",
              "        vertical-align: top;\n",
              "    }\n",
              "\n",
              "    .dataframe thead th {\n",
              "        text-align: right;\n",
              "    }\n",
              "</style>\n",
              "<table border=\"1\" class=\"dataframe\">\n",
              "  <thead>\n",
              "    <tr style=\"text-align: right;\">\n",
              "      <th></th>\n",
              "      <th>sepal length (cm)</th>\n",
              "      <th>sepal width (cm)</th>\n",
              "      <th>petal length (cm)</th>\n",
              "      <th>petal width (cm)</th>\n",
              "      <th>target</th>\n",
              "    </tr>\n",
              "  </thead>\n",
              "  <tbody>\n",
              "    <tr>\n",
              "      <th>51</th>\n",
              "      <td>6.4</td>\n",
              "      <td>3.2</td>\n",
              "      <td>4.5</td>\n",
              "      <td>1.5</td>\n",
              "      <td>1</td>\n",
              "    </tr>\n",
              "    <tr>\n",
              "      <th>0</th>\n",
              "      <td>5.1</td>\n",
              "      <td>3.5</td>\n",
              "      <td>1.4</td>\n",
              "      <td>0.2</td>\n",
              "      <td>0</td>\n",
              "    </tr>\n",
              "    <tr>\n",
              "      <th>108</th>\n",
              "      <td>6.7</td>\n",
              "      <td>2.5</td>\n",
              "      <td>5.8</td>\n",
              "      <td>1.8</td>\n",
              "      <td>2</td>\n",
              "    </tr>\n",
              "    <tr>\n",
              "      <th>45</th>\n",
              "      <td>4.8</td>\n",
              "      <td>3.0</td>\n",
              "      <td>1.4</td>\n",
              "      <td>0.3</td>\n",
              "      <td>0</td>\n",
              "    </tr>\n",
              "  </tbody>\n",
              "</table>\n",
              "</div>"
            ],
            "text/plain": [
              "     sepal length (cm)  sepal width (cm)  petal length (cm)  petal width (cm)  \\\n",
              "51                 6.4               3.2                4.5               1.5   \n",
              "0                  5.1               3.5                1.4               0.2   \n",
              "108                6.7               2.5                5.8               1.8   \n",
              "45                 4.8               3.0                1.4               0.3   \n",
              "\n",
              "     target  \n",
              "51        1  \n",
              "0         0  \n",
              "108       2  \n",
              "45        0  "
            ]
          },
          "execution_count": 29,
          "metadata": {},
          "output_type": "execute_result"
        }
      ],
      "source": [
        "import pandas as pd\n",
        "\n",
        "# load data\n",
        "iris = load_iris()\n",
        "\n",
        "# create dataframe\n",
        "df = pd.DataFrame(iris.data, columns = iris.feature_names)\n",
        "df['target'] = iris.target\n",
        "X = iris.data\n",
        "df.sample(4)"
      ]
    },
    {
      "cell_type": "markdown",
      "metadata": {
        "id": "pCs98RTxUTFN"
      },
      "source": [
        "### C. make_regression and load_boston from sklearn.datasets"
      ]
    },
    {
      "cell_type": "markdown",
      "metadata": {
        "id": "LtcO2rzkUTFN"
      },
      "source": [
        "#### About make_regression module\n",
        "- Regression is the problem of predicting a quantity given an observation.\n",
        "\n",
        "- The make_regression() function will create a dataset with a linear relationship between inputs and the outputs.\n",
        "\n",
        "- You can configure the number of samples, number of input features, level of noise, and much more.\n",
        "\n",
        "- This dataset is suitable for algorithms that can learn a linear regression function.\n",
        "- *** Syntax with the parameter ***\n",
        "> sklearn.datasets.make_regression(n_samples=100, n_features=100, *, n_informative=10, n_targets=1, bias=0.0, effective_rank=None, tail_strength=0.5, noise=0.0, shuffle=True, coef=False, random_state=None)"
      ]
    },
    {
      "cell_type": "markdown",
      "metadata": {
        "id": "sY_lPV2MUTFN"
      },
      "source": [
        "#### Importing a module"
      ]
    },
    {
      "cell_type": "code",
      "execution_count": null,
      "metadata": {
        "id": "_eKDi7ICUTFO"
      },
      "outputs": [],
      "source": [
        "from sklearn.datasets import make_regression"
      ]
    },
    {
      "cell_type": "markdown",
      "metadata": {
        "id": "Dw3KqFUKUTFO"
      },
      "source": [
        "#### Example"
      ]
    },
    {
      "cell_type": "code",
      "execution_count": null,
      "metadata": {
        "id": "Qt8XDEF9UTFO",
        "outputId": "91d8f956-0f92-483f-a213-41914c7a96d4"
      },
      "outputs": [
        {
          "data": {
            "text/plain": [
              "Text(0.5, 1.0, 'Experience Vs. Salary')"
            ]
          },
          "execution_count": 36,
          "metadata": {},
          "output_type": "execute_result"
        },
        {
          "data": {
            "image/png": "[encoded data removed]",
            "text/plain": [
              "<Figure size 432x288 with 1 Axes>"
            ]
          },
          "metadata": {
            "needs_background": "light"
          },
          "output_type": "display_data"
        }
      ],
      "source": [
        "import numpy as np\n",
        "import matplotlib.pyplot as plt #for plotting\n",
        "\n",
        "x, y, coef = make_regression(n_samples=100, #number of samples\n",
        "                                      n_features=1,  #number of features\n",
        "                                      n_informative=1, #number of useful features \n",
        "                                      noise=10,   #bias and standard deviation of the guassian noise\n",
        "                                      coef=True,  #true coefficient used to generated the data\n",
        "                                      random_state=0) #set for same data points for each run\n",
        "\n",
        "x = np.interp(x, (x.min(), x.max()), (0, 20)) # Scale feature x (years of experience) to range 0..20\n",
        "\n",
        "y = np.interp(y, (y.min(), y.max()), (20000, 150000)) # Scale target y (salary) to range 20000..150000 \n",
        "\n",
        "plt.ion() #interactive plot on\n",
        "plt.plot(x,y,'.',label='training data')\n",
        "plt.xlabel('Years of experience')\n",
        "plt.ylabel('Salary($)')\n",
        "plt.title('Experience Vs. Salary')"
      ]
    },
    {
      "cell_type": "code",
      "execution_count": null,
      "metadata": {
        "id": "0IYaY7pmUTFO",
        "outputId": "1ef1f787-76b3-4de9-e483-f8fca6cb43b4"
      },
      "outputs": [
        {
          "data": {
            "text/html": [
              "<div>\n",
              "<style scoped>\n",
              "    .dataframe tbody tr th:only-of-type {\n",
              "        vertical-align: middle;\n",
              "    }\n",
              "\n",
              "    .dataframe tbody tr th {\n",
              "        vertical-align: top;\n",
              "    }\n",
              "\n",
              "    .dataframe thead th {\n",
              "        text-align: right;\n",
              "    }\n",
              "</style>\n",
              "<table border=\"1\" class=\"dataframe\">\n",
              "  <thead>\n",
              "    <tr style=\"text-align: right;\">\n",
              "      <th></th>\n",
              "      <th>experience</th>\n",
              "      <th>salary</th>\n",
              "    </tr>\n",
              "  </thead>\n",
              "  <tbody>\n",
              "    <tr>\n",
              "      <th>0</th>\n",
              "      <td>9.096218</td>\n",
              "      <td>78311.160754</td>\n",
              "    </tr>\n",
              "    <tr>\n",
              "      <th>1</th>\n",
              "      <td>14.637429</td>\n",
              "      <td>103897.664526</td>\n",
              "    </tr>\n",
              "    <tr>\n",
              "      <th>2</th>\n",
              "      <td>12.255808</td>\n",
              "      <td>97836.261015</td>\n",
              "    </tr>\n",
              "    <tr>\n",
              "      <th>3</th>\n",
              "      <td>7.215160</td>\n",
              "      <td>80550.256380</td>\n",
              "    </tr>\n",
              "    <tr>\n",
              "      <th>4</th>\n",
              "      <td>6.905628</td>\n",
              "      <td>68555.820963</td>\n",
              "    </tr>\n",
              "    <tr>\n",
              "      <th>5</th>\n",
              "      <td>12.427999</td>\n",
              "      <td>108021.442271</td>\n",
              "    </tr>\n",
              "    <tr>\n",
              "      <th>6</th>\n",
              "      <td>6.534503</td>\n",
              "      <td>55778.019993</td>\n",
              "    </tr>\n",
              "    <tr>\n",
              "      <th>7</th>\n",
              "      <td>12.363590</td>\n",
              "      <td>101586.979793</td>\n",
              "    </tr>\n",
              "    <tr>\n",
              "      <th>8</th>\n",
              "      <td>11.451010</td>\n",
              "      <td>103966.618570</td>\n",
              "    </tr>\n",
              "    <tr>\n",
              "      <th>9</th>\n",
              "      <td>9.295277</td>\n",
              "      <td>76826.009140</td>\n",
              "    </tr>\n",
              "  </tbody>\n",
              "</table>\n",
              "</div>"
            ],
            "text/plain": [
              "   experience         salary\n",
              "0    9.096218   78311.160754\n",
              "1   14.637429  103897.664526\n",
              "2   12.255808   97836.261015\n",
              "3    7.215160   80550.256380\n",
              "4    6.905628   68555.820963\n",
              "5   12.427999  108021.442271\n",
              "6    6.534503   55778.019993\n",
              "7   12.363590  101586.979793\n",
              "8   11.451010  103966.618570\n",
              "9    9.295277   76826.009140"
            ]
          },
          "execution_count": 35,
          "metadata": {},
          "output_type": "execute_result"
        }
      ],
      "source": [
        "df1 = pd.DataFrame(data={'experience':x.flatten(),'salary':y})\n",
        "df1.head(10)"
      ]
    },
    {
      "cell_type": "markdown",
      "metadata": {
        "id": "uWu-yjJ9UTFP"
      },
      "source": [
        "#### About load_boston module\n",
        "- Boston Dataset is a part of sklearn library.\n",
        "- Sklearn comes loaded with datasets to practice machine learning techniques and boston is one of them. \n",
        "- Boston has 13 numerical features and a numerical target variable. \n",
        "- Boston dataset can be used for regression.\n",
        "- The dataset has no null or missing values.\n",
        "- Many machine learning papers use this dataset to address regression problems.\n",
        "- *** Syntax with parameter ***\n",
        "> sklearn.datasets.load_boston(*, return_X_y=False)"
      ]
    },
    {
      "cell_type": "markdown",
      "metadata": {
        "id": "tFdkhemdUTFP"
      },
      "source": [
        "#### Import a module"
      ]
    },
    {
      "cell_type": "code",
      "execution_count": null,
      "metadata": {
        "id": "Jkv0oDOYUTFP"
      },
      "outputs": [],
      "source": [
        "from sklearn.datasets import load_boston"
      ]
    },
    {
      "cell_type": "markdown",
      "metadata": {
        "id": "BSsqupROUTFP"
      },
      "source": [
        "#### Example"
      ]
    },
    {
      "cell_type": "code",
      "execution_count": null,
      "metadata": {
        "id": "IziFz5w5UTFP",
        "outputId": "cb75844c-1a70-43ef-d977-b69ec65bf54f"
      },
      "outputs": [
        {
          "name": "stdout",
          "output_type": "stream",
          "text": [
            "The shape of Dataframe is:  (506, 13)\n"
          ]
        }
      ],
      "source": [
        "X, y = load_boston(return_X_y = True)\n",
        "print('The shape of Dataframe is: ', X.shape)"
      ]
    },
    {
      "cell_type": "code",
      "execution_count": null,
      "metadata": {
        "id": "0NpYnjzkUTFP",
        "outputId": "2337e434-edaf-4707-f16e-2e1b4aedcb17"
      },
      "outputs": [
        {
          "data": {
            "image/png": "[encoded data removed]",
            "text/plain": [
              "<Figure size 288x216 with 1 Axes>"
            ]
          },
          "metadata": {
            "needs_background": "light"
          },
          "output_type": "display_data"
        }
      ],
      "source": [
        "data = load_boston()\n",
        "plt.figure(figsize=(4, 3))\n",
        "plt.hist(data.target)\n",
        "plt.xlabel('price ($1000s)')\n",
        "plt.ylabel('count')\n",
        "plt.tight_layout()"
      ]
    },
    {
      "cell_type": "code",
      "execution_count": null,
      "metadata": {
        "id": "AEgioegMUTFQ",
        "outputId": "39afb2dd-b5d2-4fb1-8bfe-708a508e9ab9"
      },
      "outputs": [
        {
          "data": {
            "image/png": "[encoded data removed]",
            "text/plain": [
              "<Figure size 288x216 with 1 Axes>"
            ]
          },
          "metadata": {
            "needs_background": "light"
          },
          "output_type": "display_data"
        },
        {
          "data": {
            "image/png": "[encoded data removed]",
            "text/plain": [
              "<Figure size 288x216 with 1 Axes>"
            ]
          },
          "metadata": {
            "needs_background": "light"
          },
          "output_type": "display_data"
        },
        {
          "data": {
            "image/png": "[encoded data removed]",
            "text/plain": [
              "<Figure size 288x216 with 1 Axes>"
            ]
          },
          "metadata": {
            "needs_background": "light"
          },
          "output_type": "display_data"
        },
        {
          "data": {
            "image/png": "[encoded data removed]",
            "text/plain": [
              "<Figure size 288x216 with 1 Axes>"
            ]
          },
          "metadata": {
            "needs_background": "light"
          },
          "output_type": "display_data"
        },
        {
          "data": {
            "image/png": "[encoded data removed]",
            "text/plain": [
              "<Figure size 288x216 with 1 Axes>"
            ]
          },
          "metadata": {
            "needs_background": "light"
          },
          "output_type": "display_data"
        },
        {
          "data": {
            "image/png": "[encoded data removed]",
            "text/plain": [
              "<Figure size 288x216 with 1 Axes>"
            ]
          },
          "metadata": {
            "needs_background": "light"
          },
          "output_type": "display_data"
        },
        {
          "data": {
            "image/png": "[encoded data removed]",
            "text/plain": [
              "<Figure size 288x216 with 1 Axes>"
            ]
          },
          "metadata": {
            "needs_background": "light"
          },
          "output_type": "display_data"
        },
        {
          "data": {
            "image/png": "[encoded data removed]",
            "text/plain": [
              "<Figure size 288x216 with 1 Axes>"
            ]
          },
          "metadata": {
            "needs_background": "light"
          },
          "output_type": "display_data"
        },
        {
          "data": {
            "image/png": "[encoded data removed]",
            "text/plain": [
              "<Figure size 288x216 with 1 Axes>"
            ]
          },
          "metadata": {
            "needs_background": "light"
          },
          "output_type": "display_data"
        },
        {
          "data": {
            "image/png": "[encoded data removed]",
            "text/plain": [
              "<Figure size 288x216 with 1 Axes>"
            ]
          },
          "metadata": {
            "needs_background": "light"
          },
          "output_type": "display_data"
        },
        {
          "data": {
            "image/png": "[encoded data removed]",
            "text/plain": [
              "<Figure size 288x216 with 1 Axes>"
            ]
          },
          "metadata": {
            "needs_background": "light"
          },
          "output_type": "display_data"
        },
        {
          "data": {
            "image/png": "[encoded data removed]",
            "text/plain": [
              "<Figure size 288x216 with 1 Axes>"
            ]
          },
          "metadata": {
            "needs_background": "light"
          },
          "output_type": "display_data"
        },
        {
          "data": {
            "image/png": "[encoded data removed]",
            "text/plain": [
              "<Figure size 288x216 with 1 Axes>"
            ]
          },
          "metadata": {
            "needs_background": "light"
          },
          "output_type": "display_data"
        }
      ],
      "source": [
        "for index, feature_name in enumerate(data.feature_names):\n",
        "    plt.figure(figsize=(4, 3))\n",
        "    plt.scatter(data.data[:, index], data.target)\n",
        "    plt.ylabel('Price', size=15)\n",
        "    plt.xlabel(feature_name, size=15)\n",
        "    plt.tight_layout()"
      ]
    },
    {
      "cell_type": "code",
      "execution_count": null,
      "metadata": {
        "id": "v69dncmAUTFQ",
        "outputId": "b5179c01-b055-4fba-9e71-a46069706ccd"
      },
      "outputs": [
        {
          "data": {
            "text/html": [
              "<div>\n",
              "<style scoped>\n",
              "    .dataframe tbody tr th:only-of-type {\n",
              "        vertical-align: middle;\n",
              "    }\n",
              "\n",
              "    .dataframe tbody tr th {\n",
              "        vertical-align: top;\n",
              "    }\n",
              "\n",
              "    .dataframe thead th {\n",
              "        text-align: right;\n",
              "    }\n",
              "</style>\n",
              "<table border=\"1\" class=\"dataframe\">\n",
              "  <thead>\n",
              "    <tr style=\"text-align: right;\">\n",
              "      <th></th>\n",
              "      <th>CRIM</th>\n",
              "      <th>ZN</th>\n",
              "      <th>INDUS</th>\n",
              "      <th>CHAS</th>\n",
              "      <th>NOX</th>\n",
              "      <th>RM</th>\n",
              "      <th>AGE</th>\n",
              "      <th>DIS</th>\n",
              "      <th>RAD</th>\n",
              "      <th>TAX</th>\n",
              "      <th>PTRATIO</th>\n",
              "      <th>B</th>\n",
              "      <th>LSTAT</th>\n",
              "      <th>target</th>\n",
              "    </tr>\n",
              "  </thead>\n",
              "  <tbody>\n",
              "    <tr>\n",
              "      <th>223</th>\n",
              "      <td>0.61470</td>\n",
              "      <td>0.0</td>\n",
              "      <td>6.20</td>\n",
              "      <td>0.0</td>\n",
              "      <td>0.507</td>\n",
              "      <td>6.618</td>\n",
              "      <td>80.8</td>\n",
              "      <td>3.2721</td>\n",
              "      <td>8.0</td>\n",
              "      <td>307.0</td>\n",
              "      <td>17.4</td>\n",
              "      <td>396.90</td>\n",
              "      <td>7.60</td>\n",
              "      <td>30.1</td>\n",
              "    </tr>\n",
              "    <tr>\n",
              "      <th>55</th>\n",
              "      <td>0.01311</td>\n",
              "      <td>90.0</td>\n",
              "      <td>1.22</td>\n",
              "      <td>0.0</td>\n",
              "      <td>0.403</td>\n",
              "      <td>7.249</td>\n",
              "      <td>21.9</td>\n",
              "      <td>8.6966</td>\n",
              "      <td>5.0</td>\n",
              "      <td>226.0</td>\n",
              "      <td>17.9</td>\n",
              "      <td>395.93</td>\n",
              "      <td>4.81</td>\n",
              "      <td>35.4</td>\n",
              "    </tr>\n",
              "    <tr>\n",
              "      <th>448</th>\n",
              "      <td>9.32909</td>\n",
              "      <td>0.0</td>\n",
              "      <td>18.10</td>\n",
              "      <td>0.0</td>\n",
              "      <td>0.713</td>\n",
              "      <td>6.185</td>\n",
              "      <td>98.7</td>\n",
              "      <td>2.2616</td>\n",
              "      <td>24.0</td>\n",
              "      <td>666.0</td>\n",
              "      <td>20.2</td>\n",
              "      <td>396.90</td>\n",
              "      <td>18.13</td>\n",
              "      <td>14.1</td>\n",
              "    </tr>\n",
              "    <tr>\n",
              "      <th>38</th>\n",
              "      <td>0.17505</td>\n",
              "      <td>0.0</td>\n",
              "      <td>5.96</td>\n",
              "      <td>0.0</td>\n",
              "      <td>0.499</td>\n",
              "      <td>5.966</td>\n",
              "      <td>30.2</td>\n",
              "      <td>3.8473</td>\n",
              "      <td>5.0</td>\n",
              "      <td>279.0</td>\n",
              "      <td>19.2</td>\n",
              "      <td>393.43</td>\n",
              "      <td>10.13</td>\n",
              "      <td>24.7</td>\n",
              "    </tr>\n",
              "  </tbody>\n",
              "</table>\n",
              "</div>"
            ],
            "text/plain": [
              "        CRIM    ZN  INDUS  CHAS    NOX     RM   AGE     DIS   RAD    TAX  \\\n",
              "223  0.61470   0.0   6.20   0.0  0.507  6.618  80.8  3.2721   8.0  307.0   \n",
              "55   0.01311  90.0   1.22   0.0  0.403  7.249  21.9  8.6966   5.0  226.0   \n",
              "448  9.32909   0.0  18.10   0.0  0.713  6.185  98.7  2.2616  24.0  666.0   \n",
              "38   0.17505   0.0   5.96   0.0  0.499  5.966  30.2  3.8473   5.0  279.0   \n",
              "\n",
              "     PTRATIO       B  LSTAT  target  \n",
              "223     17.4  396.90   7.60    30.1  \n",
              "55      17.9  395.93   4.81    35.4  \n",
              "448     20.2  396.90  18.13    14.1  \n",
              "38      19.2  393.43  10.13    24.7  "
            ]
          },
          "execution_count": 47,
          "metadata": {},
          "output_type": "execute_result"
        }
      ],
      "source": [
        "df = pd.DataFrame(data.data, columns = data.feature_names)\n",
        "df['target'] = data.target\n",
        "X = data.data\n",
        "df.sample(4)"
      ]
    },
    {
      "cell_type": "code",
      "execution_count": null,
      "metadata": {
        "id": "CMWKdyQiUTFQ",
        "outputId": "1d556d37-7293-44a0-b9ea-08e987028b15"
      },
      "outputs": [
        {
          "name": "stdout",
          "output_type": "stream",
          "text": [
            "DESCR .. _boston_dataset:\n",
            "\n",
            "Boston house prices dataset\n",
            "---------------------------\n",
            "\n",
            "**Data Set Characteristics:**  \n",
            "\n",
            "    :Number of Instances: 506 \n",
            "\n",
            "    :Number of Attributes: 13 numeric/categorical predictive. Median Value (attribute 14) is usually the target.\n",
            "\n",
            "    :Attribute Information (in order):\n",
            "        - CRIM     per capita crime rate by town\n",
            "        - ZN       proportion of residential land zoned for lots over 25,000 sq.ft.\n",
            "        - INDUS    proportion of non-retail business acres per town\n",
            "        - CHAS     Charles River dummy variable (= 1 if tract bounds river; 0 otherwise)\n",
            "        - NOX      nitric oxides concentration (parts per 10 million)\n",
            "        - RM       average number of rooms per dwelling\n",
            "        - AGE      proportion of owner-occupied units built prior to 1940\n",
            "        - DIS      weighted distances to five Boston employment centres\n",
            "        - RAD      index of accessibility to radial highways\n",
            "        - TAX      full-value property-tax rate per $10,000\n",
            "        - PTRATIO  pupil-teacher ratio by town\n",
            "        - B        1000(Bk - 0.63)^2 where Bk is the proportion of black people by town\n",
            "        - LSTAT    % lower status of the population\n",
            "        - MEDV     Median value of owner-occupied homes in $1000's\n",
            "\n",
            "    :Missing Attribute Values: None\n",
            "\n",
            "    :Creator: Harrison, D. and Rubinfeld, D.L.\n",
            "\n",
            "This is a copy of UCI ML housing dataset.\n",
            "https://archive.ics.uci.edu/ml/machine-learning-databases/housing/\n",
            "\n",
            "\n",
            "This dataset was taken from the StatLib library which is maintained at Carnegie Mellon University.\n",
            "\n",
            "The Boston house-price data of Harrison, D. and Rubinfeld, D.L. 'Hedonic\n",
            "prices and the demand for clean air', J. Environ. Economics & Management,\n",
            "vol.5, 81-102, 1978.   Used in Belsley, Kuh & Welsch, 'Regression diagnostics\n",
            "...', Wiley, 1980.   N.B. Various transformations are used in the table on\n",
            "pages 244-261 of the latter.\n",
            "\n",
            "The Boston house-price data has been used in many machine learning papers that address regression\n",
            "problems.   \n",
            "     \n",
            ".. topic:: References\n",
            "\n",
            "   - Belsley, Kuh & Welsch, 'Regression diagnostics: Identifying Influential Data and Sources of Collinearity', Wiley, 1980. 244-261.\n",
            "   - Quinlan,R. (1993). Combining Instance-Based and Model-Based Learning. In Proceedings on the Tenth International Conference of Machine Learning, 236-243, University of Massachusetts, Amherst. Morgan Kaufmann.\n",
            " \n",
            "---------------------------------------------------------------------------\n",
            "data [[6.3200e-03 1.8000e+01 2.3100e+00 ... 1.5300e+01 3.9690e+02 4.9800e+00]\n",
            " [2.7310e-02 0.0000e+00 7.0700e+00 ... 1.7800e+01 3.9690e+02 9.1400e+00]\n",
            " [2.7290e-02 0.0000e+00 7.0700e+00 ... 1.7800e+01 3.9283e+02 4.0300e+00]\n",
            " ...\n",
            " [6.0760e-02 0.0000e+00 1.1930e+01 ... 2.1000e+01 3.9690e+02 5.6400e+00]\n",
            " [1.0959e-01 0.0000e+00 1.1930e+01 ... 2.1000e+01 3.9345e+02 6.4800e+00]\n",
            " [4.7410e-02 0.0000e+00 1.1930e+01 ... 2.1000e+01 3.9690e+02 7.8800e+00]] \n",
            "---------------------------------------------------------------------------\n",
            "shape (506, 13) \n",
            "---------------------------------------------------------------------------\n",
            "feature_names ['CRIM' 'ZN' 'INDUS' 'CHAS' 'NOX' 'RM' 'AGE' 'DIS' 'RAD' 'TAX' 'PTRATIO'\n",
            " 'B' 'LSTAT'] \n",
            "---------------------------------------------------------------------------\n",
            "target [24.  21.6 34.7 33.4 36.2 28.7 22.9 27.1 16.5 18.9 15.  18.9 21.7 20.4\n",
            " 18.2 19.9 23.1 17.5 20.2 18.2 13.6 19.6 15.2 14.5 15.6 13.9 16.6 14.8\n",
            " 18.4 21.  12.7 14.5 13.2 13.1 13.5 18.9 20.  21.  24.7 30.8 34.9 26.6\n",
            " 25.3 24.7 21.2 19.3 20.  16.6 14.4 19.4 19.7 20.5 25.  23.4 18.9 35.4\n",
            " 24.7 31.6 23.3 19.6 18.7 16.  22.2 25.  33.  23.5 19.4 22.  17.4 20.9\n",
            " 24.2 21.7 22.8 23.4 24.1 21.4 20.  20.8 21.2 20.3 28.  23.9 24.8 22.9\n",
            " 23.9 26.6 22.5 22.2 23.6 28.7 22.6 22.  22.9 25.  20.6 28.4 21.4 38.7\n",
            " 43.8 33.2 27.5 26.5 18.6 19.3 20.1 19.5 19.5 20.4 19.8 19.4 21.7 22.8\n",
            " 18.8 18.7 18.5 18.3 21.2 19.2 20.4 19.3 22.  20.3 20.5 17.3 18.8 21.4\n",
            " 15.7 16.2 18.  14.3 19.2 19.6 23.  18.4 15.6 18.1 17.4 17.1 13.3 17.8\n",
            " 14.  14.4 13.4 15.6 11.8 13.8 15.6 14.6 17.8 15.4 21.5 19.6 15.3 19.4\n",
            " 17.  15.6 13.1 41.3 24.3 23.3 27.  50.  50.  50.  22.7 25.  50.  23.8\n",
            " 23.8 22.3 17.4 19.1 23.1 23.6 22.6 29.4 23.2 24.6 29.9 37.2 39.8 36.2\n",
            " 37.9 32.5 26.4 29.6 50.  32.  29.8 34.9 37.  30.5 36.4 31.1 29.1 50.\n",
            " 33.3 30.3 34.6 34.9 32.9 24.1 42.3 48.5 50.  22.6 24.4 22.5 24.4 20.\n",
            " 21.7 19.3 22.4 28.1 23.7 25.  23.3 28.7 21.5 23.  26.7 21.7 27.5 30.1\n",
            " 44.8 50.  37.6 31.6 46.7 31.5 24.3 31.7 41.7 48.3 29.  24.  25.1 31.5\n",
            " 23.7 23.3 22.  20.1 22.2 23.7 17.6 18.5 24.3 20.5 24.5 26.2 24.4 24.8\n",
            " 29.6 42.8 21.9 20.9 44.  50.  36.  30.1 33.8 43.1 48.8 31.  36.5 22.8\n",
            " 30.7 50.  43.5 20.7 21.1 25.2 24.4 35.2 32.4 32.  33.2 33.1 29.1 35.1\n",
            " 45.4 35.4 46.  50.  32.2 22.  20.1 23.2 22.3 24.8 28.5 37.3 27.9 23.9\n",
            " 21.7 28.6 27.1 20.3 22.5 29.  24.8 22.  26.4 33.1 36.1 28.4 33.4 28.2\n",
            " 22.8 20.3 16.1 22.1 19.4 21.6 23.8 16.2 17.8 19.8 23.1 21.  23.8 23.1\n",
            " 20.4 18.5 25.  24.6 23.  22.2 19.3 22.6 19.8 17.1 19.4 22.2 20.7 21.1\n",
            " 19.5 18.5 20.6 19.  18.7 32.7 16.5 23.9 31.2 17.5 17.2 23.1 24.5 26.6\n",
            " 22.9 24.1 18.6 30.1 18.2 20.6 17.8 21.7 22.7 22.6 25.  19.9 20.8 16.8\n",
            " 21.9 27.5 21.9 23.1 50.  50.  50.  50.  50.  13.8 13.8 15.  13.9 13.3\n",
            " 13.1 10.2 10.4 10.9 11.3 12.3  8.8  7.2 10.5  7.4 10.2 11.5 15.1 23.2\n",
            "  9.7 13.8 12.7 13.1 12.5  8.5  5.   6.3  5.6  7.2 12.1  8.3  8.5  5.\n",
            " 11.9 27.9 17.2 27.5 15.  17.2 17.9 16.3  7.   7.2  7.5 10.4  8.8  8.4\n",
            " 16.7 14.2 20.8 13.4 11.7  8.3 10.2 10.9 11.   9.5 14.5 14.1 16.1 14.3\n",
            " 11.7 13.4  9.6  8.7  8.4 12.8 10.5 17.1 18.4 15.4 10.8 11.8 14.9 12.6\n",
            " 14.1 13.  13.4 15.2 16.1 17.8 14.9 14.1 12.7 13.5 14.9 20.  16.4 17.7\n",
            " 19.5 20.2 21.4 19.9 19.  19.1 19.1 20.1 19.9 19.6 23.2 29.8 13.8 13.3\n",
            " 16.7 12.  14.6 21.4 23.  23.7 25.  21.8 20.6 21.2 19.1 20.6 15.2  7.\n",
            "  8.1 13.6 20.1 21.8 24.5 23.1 19.7 18.3 21.2 17.5 16.8 22.4 20.6 23.9\n",
            " 22.  11.9] \n",
            "---------------------------------------------------------------------------\n",
            "target.shape (506,) \n",
            "---------------------------------------------------------------------------\n"
          ]
        }
      ],
      "source": [
        "print('DESCR',data.DESCR,'\\n---------------------------------------------------------------------------')\n",
        "print('data',data.data,'\\n---------------------------------------------------------------------------')\n",
        "print('shape',data.data.shape,'\\n---------------------------------------------------------------------------')\n",
        "print('feature_names',data.feature_names,'\\n---------------------------------------------------------------------------')\n",
        "print('target',data.target,'\\n---------------------------------------------------------------------------')\n",
        "print('target.shape',data.target.shape,'\\n---------------------------------------------------------------------------')"
      ]
    },
    {
      "cell_type": "markdown",
      "metadata": {
        "id": "7iF5idy7UTFQ"
      },
      "source": [
        "### D. DummyClassifier and DummyRegressor from sklearn.dummy"
      ]
    },
    {
      "cell_type": "markdown",
      "metadata": {
        "id": "UpiUm-HEUTFQ"
      },
      "source": [
        "#### About DummyClassifier\n",
        "- A dummy classifier is a type of classifier which does not generate any insight about the data and classifies the given data using only simple rules. The classifier’s behavior is completely independent of the training data as the trends in the training data are completely ignored and instead uses one of the strategies to predict the class label.\n",
        "- It is used only as a simple baseline for the other classifiers i.e. any other classifier is expected to perform better on the given dataset. It is especially useful for datasets where are sure of a class imbalance. It is based on the philosophy that any analytic approach for a classification problem should be better than a random guessing approach.\n",
        "- **Below are a few strategies used by the dummy classifier to predict a class label**\n",
        "    - **Most Frequent**: The classifier always predicts the most frequent class label in the training data.\n",
        "    - **Stratified**: It generates predictions by respecting the class distribution of the training data. It is different from the “most frequent” strategy as it instead associates a probability with each data point of being the most frequent class label.\n",
        "    - **Uniform**: It generates predictions uniformly at random.\n",
        "    - **Constant**: The classifier always predicts a constant label and is primarily used when classifying non-majority class labels.\n",
        "    \n",
        "- *** Syntax with parameter *** \n",
        "> sklearn.dummy.DummyClassifier(*, strategy='prior', random_state=None, constant=None)\n"
      ]
    },
    {
      "cell_type": "markdown",
      "metadata": {
        "id": "K1lJjtI1UTFR"
      },
      "source": [
        "#### importing  a module"
      ]
    },
    {
      "cell_type": "code",
      "execution_count": null,
      "metadata": {
        "id": "haKNi8UYUTFR"
      },
      "outputs": [],
      "source": [
        "from sklearn.dummy import DummyClassifier"
      ]
    },
    {
      "cell_type": "markdown",
      "metadata": {
        "id": "b21k26XyUTFR"
      },
      "source": [
        "#### Example"
      ]
    },
    {
      "cell_type": "code",
      "execution_count": null,
      "metadata": {
        "id": "9YmiWEk8UTFR",
        "outputId": "d4697688-d5c1-4a3c-b0fa-e75533a8be84"
      },
      "outputs": [
        {
          "name": "stdout",
          "output_type": "stream",
          "text": [
            "DummyClassifier(strategy='most_frequent')\n",
            "most_frequent\n",
            "[1 1 1 1]\n",
            "0.5\n",
            "----------------------xxxxxxx----------------------\n",
            "DummyClassifier(strategy='stratified')\n",
            "stratified\n",
            "[ 1  1 -1 -1]\n",
            "0.75\n",
            "----------------------xxxxxxx----------------------\n",
            "DummyClassifier(constant=1, strategy='constant')\n",
            "constant\n",
            "[1 1 1 1]\n",
            "0.5\n",
            "----------------------xxxxxxx----------------------\n",
            "DummyClassifier(strategy='uniform')\n",
            "uniform\n",
            "[ 1  1 -1  1]\n",
            "0.5\n",
            "----------------------xxxxxxx----------------------\n"
          ]
        }
      ],
      "source": [
        "a = np.array([-1, 1, -1, 1])\n",
        "b = np.array([0, 1, 1, -1])\n",
        "strat = [\"most_frequent\", \"stratified\", \"constant\", \"uniform\"]\n",
        "for s in strat:\n",
        "    if s == \"constant\":\n",
        "        dummy_clf = DummyClassifier(strategy=s,random_state=None,constant=1)\n",
        "    else:\n",
        "        dummy_clf = DummyClassifier(strategy=s,random_state=None)\n",
        "    print(dummy_clf.fit(a,b))\n",
        "    print(s)\n",
        "    print(dummy_clf.predict(a))\n",
        "    print(dummy_clf.score(a,b))\n",
        "    print(\"----------------------xxxxxxx----------------------\")"
      ]
    },
    {
      "cell_type": "code",
      "execution_count": null,
      "metadata": {
        "id": "4K9qr_sIUTFR",
        "outputId": "e109b237-b1de-45c4-f005-966075d2328b"
      },
      "outputs": [
        {
          "name": "stdout",
          "output_type": "stream",
          "text": [
            "[1]\n",
            "[1]\n",
            "[1]\n",
            "[1]\n",
            "[1]\n",
            "[1]\n",
            "[1]\n",
            "[1]\n",
            "[1]\n",
            "[1]\n",
            "[1]\n",
            "[1]\n",
            "[1]\n",
            "[1]\n",
            "[1]\n",
            "[1]\n",
            "[1]\n",
            "[1]\n",
            "[1]\n",
            "[1]\n",
            "[1]\n",
            "[1]\n",
            "[1]\n",
            "[1]\n",
            "[1]\n",
            "[1]\n",
            "[1]\n",
            "[1]\n",
            "[1]\n",
            "[1]\n",
            "[1]\n",
            "[1]\n",
            "[1]\n",
            "[1]\n",
            "[1]\n",
            "[1]\n",
            "[1]\n",
            "[1]\n",
            "[1]\n",
            "[1]\n",
            "[1]\n",
            "[1]\n",
            "[1]\n",
            "[1]\n",
            "[1]\n",
            "[1]\n",
            "[1]\n",
            "[1]\n",
            "[1]\n",
            "[1]\n",
            "[1]\n",
            "[1]\n",
            "[1]\n",
            "[1]\n",
            "[1]\n",
            "[1]\n",
            "[1]\n",
            "[1]\n",
            "[1]\n",
            "[1]\n",
            "[1]\n",
            "[1]\n",
            "[1]\n",
            "[1]\n",
            "[1]\n",
            "[1]\n",
            "[1]\n",
            "[1]\n",
            "[1]\n",
            "[1]\n",
            "[1]\n",
            "[1]\n",
            "[1]\n",
            "[1]\n",
            "[1]\n",
            "[1]\n",
            "[1]\n",
            "[1]\n",
            "[1]\n",
            "[1]\n",
            "[1]\n",
            "[1]\n",
            "[1]\n",
            "[1]\n",
            "[1]\n",
            "[1]\n",
            "[1]\n",
            "[1]\n",
            "[1]\n",
            "[1]\n",
            "[1]\n",
            "[1]\n",
            "[1]\n",
            "[1]\n",
            "[1]\n",
            "[1]\n",
            "[1]\n",
            "[1]\n",
            "[1]\n",
            "[1]\n",
            "==================================================\n",
            "[1]\n",
            "[1]\n",
            "[1]\n",
            "[0]\n",
            "[1]\n",
            "[1]\n",
            "[1]\n",
            "[1]\n",
            "[0]\n",
            "[1]\n",
            "[1]\n",
            "[1]\n",
            "[1]\n",
            "[1]\n",
            "[1]\n",
            "[1]\n",
            "[1]\n",
            "[0]\n",
            "[1]\n",
            "[1]\n",
            "[1]\n",
            "[1]\n",
            "[1]\n",
            "[1]\n",
            "[1]\n",
            "[1]\n",
            "[1]\n",
            "[1]\n",
            "[1]\n",
            "[1]\n",
            "[1]\n",
            "[1]\n",
            "[1]\n",
            "[1]\n",
            "[1]\n",
            "[1]\n",
            "[1]\n",
            "[1]\n",
            "[1]\n",
            "[1]\n",
            "[1]\n",
            "[1]\n",
            "[1]\n",
            "[0]\n",
            "[1]\n",
            "[1]\n",
            "[1]\n",
            "[1]\n",
            "[1]\n",
            "[1]\n",
            "[1]\n",
            "[1]\n",
            "[1]\n",
            "[1]\n",
            "[1]\n",
            "[1]\n",
            "[1]\n",
            "[1]\n",
            "[1]\n",
            "[1]\n",
            "[1]\n",
            "[1]\n",
            "[1]\n",
            "[1]\n",
            "[1]\n",
            "[1]\n",
            "[1]\n",
            "[1]\n",
            "[1]\n",
            "[1]\n",
            "[0]\n",
            "[1]\n",
            "[1]\n",
            "[1]\n",
            "[1]\n",
            "[1]\n",
            "[1]\n",
            "[1]\n",
            "[1]\n",
            "[1]\n",
            "[1]\n",
            "[0]\n",
            "[1]\n",
            "[1]\n",
            "[1]\n",
            "[1]\n",
            "[1]\n",
            "[1]\n",
            "[1]\n",
            "[1]\n",
            "[1]\n",
            "[1]\n",
            "[1]\n",
            "[1]\n",
            "[1]\n",
            "[1]\n",
            "[1]\n",
            "[1]\n",
            "[0]\n",
            "[1]\n"
          ]
        }
      ],
      "source": [
        "two_dimensional_values = []\n",
        "class_labels           = []\n",
        "\n",
        "for i in range(90):\n",
        "    two_dimensional_values.append( [1,1] )\n",
        "    class_labels.append(1)\n",
        "\n",
        "for i in range(10):\n",
        "    two_dimensional_values.append( [0,0] )\n",
        "    class_labels.append(0)\n",
        "\n",
        "#now 90% of the training data contains the target property\n",
        "X = np.array( two_dimensional_values )\n",
        "y = np.array( class_labels )\n",
        "\n",
        "#train a dummy classifier to make predictions based on the most_frequent class value\n",
        "dummy_classifier = DummyClassifier(strategy=\"most_frequent\")\n",
        "dummy_classifier.fit( X,y )\n",
        "\n",
        "#this produces 100 predictions that say \"1\"\n",
        "for i in two_dimensional_values:\n",
        "    print( dummy_classifier.predict( [i]) )\n",
        "print(\"=\"*50)\n",
        "#train a dummy classifier to make predictions based on the class values\n",
        "new_dummy_classifier = DummyClassifier(strategy=\"stratified\")\n",
        "new_dummy_classifier.fit( X,y )\n",
        "\n",
        "#this produces roughly 90 guesses that say \"1\" and roughly 10 guesses that say \"0\"\n",
        "for i in two_dimensional_values:\n",
        "    print( new_dummy_classifier.predict( [i]) )"
      ]
    },
    {
      "cell_type": "markdown",
      "metadata": {
        "id": "ReCVxDtgUTFR"
      },
      "source": [
        "#### About DummyRegressor module\n",
        "- The Dummy Regressor is a kind of Regressor that gives prediction based on simple strategies without paying any attention to the input Data. \n",
        "- As similar to Dummy Classifier the sklearn library also provides Dummy Regressor which is used to set up a baseline for comparing other existing Regressor namely  Poisson Regressor, Linear Regression, Ridge Regression and many more.\n",
        "- *** Syntax with parameter ***\n",
        "> sklearn.dummy.DummyRegressor(*, strategy='mean', constant=None, quantile=None)\n",
        "- Strategy to use to generate predictions.\n",
        "- “mean”: always predicts the mean of the training set\n",
        "- “median”: always predicts the median of the training set-\n",
        "- “quantile”: always predicts a specified quantile of the training set, provided with the quantile parameter.\n",
        "- “constant”: always predicts a constant value that is provided by the user.\n"
      ]
    },
    {
      "cell_type": "markdown",
      "metadata": {
        "id": "mNH16i70UTFS"
      },
      "source": [
        "#### Importing a module"
      ]
    },
    {
      "cell_type": "code",
      "execution_count": null,
      "metadata": {
        "id": "6pJnpuceUTFS"
      },
      "outputs": [],
      "source": [
        "from sklearn.dummy import DummyRegressor"
      ]
    },
    {
      "cell_type": "markdown",
      "metadata": {
        "id": "SAJchkyuUTFS"
      },
      "source": [
        "#### Example"
      ]
    },
    {
      "cell_type": "code",
      "execution_count": null,
      "metadata": {
        "id": "vfUSPDIrUTFS",
        "outputId": "c63c7ac0-c6fb-4a5e-e4b7-033c9ded2d24"
      },
      "outputs": [
        {
          "data": {
            "text/plain": [
              "DummyRegressor()"
            ]
          },
          "execution_count": 66,
          "metadata": {},
          "output_type": "execute_result"
        }
      ],
      "source": [
        "X = np.array([1.0,2.0,3.0,4.0])\n",
        "y = np.array([2.0,3.0,5.0,10.0])\n",
        "dummy_regr = DummyRegressor(strategy=\"mean\")\n",
        "dummy_regr.fit(X, y)"
      ]
    },
    {
      "cell_type": "code",
      "execution_count": null,
      "metadata": {
        "id": "W-C2y5aVUTFS",
        "outputId": "edcacbb2-eef3-463b-f708-5f0905f58fa5"
      },
      "outputs": [
        {
          "data": {
            "text/plain": [
              "array([5., 5., 5., 5.])"
            ]
          },
          "execution_count": 67,
          "metadata": {},
          "output_type": "execute_result"
        }
      ],
      "source": [
        "dummy_regr.predict(X)"
      ]
    },
    {
      "cell_type": "code",
      "execution_count": null,
      "metadata": {
        "id": "SFHyPhS6UTFS",
        "outputId": "d5065cb1-6296-42c2-f068-84812479514f"
      },
      "outputs": [
        {
          "data": {
            "text/plain": [
              "0.0"
            ]
          },
          "execution_count": 68,
          "metadata": {},
          "output_type": "execute_result"
        }
      ],
      "source": [
        "dummy_regr.score(X, y)"
      ]
    },
    {
      "cell_type": "markdown",
      "metadata": {
        "id": "u_mduO8TUTFT"
      },
      "source": [
        "### E. accuracy_score, classification_report, and confusion_matrix from sklearn.metrics"
      ]
    },
    {
      "cell_type": "markdown",
      "metadata": {
        "id": "-bX9KC8BUTFT"
      },
      "source": [
        "#### About accuracy_score\n",
        "- The accuracy_score method is used to calculate the accuracy of either the faction or count of correct prediction in Python Scikit learn.\n",
        "- Mathematically it represents the ratio of the sum of true positives and true negatives out of all the predictions.\n",
        "- In multilabel classification, the function returns the subset accuracy. If the whole set of predicted labels for the sample accurately matches with the true set of labels. Then the accuracy of the subset is 1.0 otherwise, its accuracy is almost 0.0\n",
        "- *** Syntax with parameter ***\n",
        "> sklearn.metrics.accuracy_score(y_true,y_pred,normalize=False,sample_weight=None)"
      ]
    },
    {
      "cell_type": "markdown",
      "metadata": {
        "id": "B7W39PP6UTFT"
      },
      "source": [
        "#### importing a module"
      ]
    },
    {
      "cell_type": "code",
      "execution_count": null,
      "metadata": {
        "id": "LOAXRg-FUTFT"
      },
      "outputs": [],
      "source": [
        "from sklearn.metrics import accuracy_score"
      ]
    },
    {
      "cell_type": "markdown",
      "metadata": {
        "id": "lEA-ySeCUTFT"
      },
      "source": [
        "#### Example"
      ]
    },
    {
      "cell_type": "code",
      "execution_count": null,
      "metadata": {
        "id": "8LE-cUCVUTFT",
        "outputId": "0af9d579-770c-4398-8365-bfab80ccb90d"
      },
      "outputs": [
        {
          "data": {
            "text/plain": [
              "0.5"
            ]
          },
          "execution_count": 71,
          "metadata": {},
          "output_type": "execute_result"
        }
      ],
      "source": [
        "y_pred = [0, 5, 2, 4]\n",
        "y_true = [0, 1, 2, 3]\n",
        "accuracy_score(y_true, y_pred)"
      ]
    },
    {
      "cell_type": "code",
      "execution_count": null,
      "metadata": {
        "id": "IdxXKfY1UTFT",
        "outputId": "1f619c80-f781-4178-9fa4-d89b7a61432a"
      },
      "outputs": [
        {
          "name": "stdout",
          "output_type": "stream",
          "text": [
            "0.5714285714285714\n"
          ]
        }
      ],
      "source": [
        "import sklearn\n",
        "y_true = [\"positive\", \"negative\", \"negative\", \"positive\", \"positive\", \"positive\", \"negative\"]\n",
        "y_pred = [\"positive\", \"negative\", \"positive\", \"positive\", \"negative\", \"positive\", \"positive\"]\n",
        "\n",
        "r = sklearn.metrics.confusion_matrix(y_true, y_pred)\n",
        "\n",
        "r = np.flip(r)\n",
        "\n",
        "accuracy = (r[0][0] + r[-1][-1]) / np.sum(r)\n",
        "print(accuracy)"
      ]
    },
    {
      "cell_type": "markdown",
      "metadata": {
        "id": "QYlaqZHMUTFU"
      },
      "source": [
        "#### About classification_report\n",
        "- The classification report shows a representation of the main classification metrics on a per-class basis. This gives a deeper intuition of the classifier behavior over global accuracy which can mask functional weaknesses in one class of a multiclass problem. Visual classification reports are used to compare classification models to select models that are “redder”, e.g. have stronger classification metrics or that are more balanced.\n",
        "\n",
        "- The metrics are defined in terms of true and false positives, and true and false negatives. Positive and negative in this case are generic names for the classes of a binary classification problem. In the example above, we would consider true and false occupied and true and false unoccupied. Therefore a true positive is when the actual class is positive as is the estimated class. A false positive is when the actual class is negative but the estimated class is positive. Using this terminology the metrics are defined as follows:\n",
        "\n",
        "    - precision\n",
        "        - Precision can be seen as a measure of a classifier’s exactness. For each class, it is defined as the ratio of true positives to the sum of true and false positives. Said another way, “for all instances classified positive, what percent was correct?”\n",
        "\n",
        "    - recall\n",
        "        - Recall is a measure of the classifier’s completeness; the ability of a classifier to correctly find all positive instances. For each class, it is defined as the ratio of true positives to the sum of true positives and false negatives. Said another way, “for all instances that were actually positive, what percent was classified correctly?”\n",
        "\n",
        "    - f1 score\n",
        "        - The F1 score is a weighted harmonic mean of precision and recall such that the best score is 1.0 and the worst is 0.0. Generally speaking, F1 scores are lower than accuracy measures as they embed precision and recall into their computation. As a rule of thumb, the weighted average of F1 should be used to compare classifier models, not global accuracy.\n",
        "\n",
        "    - support\n",
        "        - Support is the number of actual occurrences of the class in the specified dataset. Imbalanced support in the training data may indicate structural weaknesses in the reported scores of the classifier and could indicate the need for stratified sampling or rebalancing. Support doesn’t change between models but instead diagnoses the evaluation process.\n",
        "\n",
        "- *** Syntax With parameter ***\n",
        "> sklearn.metrics.classification_report(y_true, y_pred, *, labels=None, target_names=None, sample_weight=None, digits=2, output_dict=False, zero_division='warn')"
      ]
    },
    {
      "cell_type": "markdown",
      "metadata": {
        "id": "NSw5FruWUTFU"
      },
      "source": [
        "#### importing a module"
      ]
    },
    {
      "cell_type": "code",
      "execution_count": null,
      "metadata": {
        "id": "g1bKBI0qUTFU"
      },
      "outputs": [],
      "source": [
        "from sklearn.metrics import classification_report"
      ]
    },
    {
      "cell_type": "markdown",
      "metadata": {
        "id": "WY5o6Oa4UTFU"
      },
      "source": [
        "#### Example"
      ]
    },
    {
      "cell_type": "code",
      "execution_count": null,
      "metadata": {
        "id": "mafMgC9gUTFU",
        "outputId": "4d0a5b10-c6c5-468e-cea1-10e829b8d41f"
      },
      "outputs": [
        {
          "name": "stdout",
          "output_type": "stream",
          "text": [
            "              precision    recall  f1-score   support\n",
            "\n",
            "     class 0       0.50      1.00      0.67         1\n",
            "     class 1       0.00      0.00      0.00         1\n",
            "     class 2       1.00      0.67      0.80         3\n",
            "\n",
            "    accuracy                           0.60         5\n",
            "   macro avg       0.50      0.56      0.49         5\n",
            "weighted avg       0.70      0.60      0.61         5\n",
            "\n"
          ]
        }
      ],
      "source": [
        "y_true = [0, 1, 2, 2, 2]\n",
        "y_pred = [0, 0, 2, 2, 1]\n",
        "target_names = ['class 0', 'class 1', 'class 2']\n",
        "print(classification_report(y_true, y_pred, target_names=target_names))"
      ]
    },
    {
      "cell_type": "markdown",
      "metadata": {
        "id": "aljv_ZZYUTFU"
      },
      "source": [
        "#### About confusion_matrix\n",
        "- A Confusion matrix is an N x N matrix used for evaluating the performance of a classification model, where N is the number of target classes. The matrix compares the actual target values with those predicted by the machine learning model. This gives us a holistic view of how well our classification model is performing and what kinds of errors it is making.\n",
        "- The target variable has two values: Positive or Negative\n",
        "- The columns represent the actual values of the target variable\n",
        "- The rows represent the predicted values of the target variable\n",
        "- Understanding True Positive, True Negative, False Positive and False Negative in a Confusion Matrix\n",
        "    - True Positive (TP) \n",
        "        - The predicted value matches the actual value\n",
        "        - The actual value was positive and the model predicted a positive value\n",
        "    - True Negative (TN) \n",
        "        - The predicted value matches the actual value\n",
        "        - The actual value was negative and the model predicted a negative value\n",
        "    - False Positive (FP) – Type 1 error\n",
        "        - The predicted value was falsely predicted\n",
        "        - The actual value was negative but the model predicted a positive value\n",
        "        - Also known as the Type 1 error\n",
        "    - False Negative (FN) – Type 2 error\n",
        "        - The predicted value was falsely predicted\n",
        "        - The actual value was positive but the model predicted a negative value\n",
        "        - Also known as the Type 2 error\n",
        "- *** Syntax with parameter ***\n",
        "> sklearn.metrics.confusion_matrix(y_true, y_pred, *, labels=None, sample_weight=None, normalize=None)"
      ]
    },
    {
      "cell_type": "markdown",
      "metadata": {
        "id": "gvMaKhAUUTFV"
      },
      "source": [
        "#### importing a module"
      ]
    },
    {
      "cell_type": "code",
      "execution_count": null,
      "metadata": {
        "id": "fQoWRGYCUTFV"
      },
      "outputs": [],
      "source": [
        "from sklearn.metrics import confusion_matrix"
      ]
    },
    {
      "cell_type": "markdown",
      "metadata": {
        "id": "MCM9zHTxUTFV"
      },
      "source": [
        "#### Example"
      ]
    },
    {
      "cell_type": "code",
      "execution_count": null,
      "metadata": {
        "id": "L_Gh7L1DUTFV",
        "outputId": "506b7e2e-2e3d-4ce7-d10c-f17f88a6b69e"
      },
      "outputs": [
        {
          "data": {
            "text/plain": [
              "array([[2, 0, 0],\n",
              "       [0, 0, 1],\n",
              "       [1, 0, 2]], dtype=int64)"
            ]
          },
          "execution_count": 83,
          "metadata": {},
          "output_type": "execute_result"
        }
      ],
      "source": [
        "y_true = [2, 0, 2, 2, 0, 1]\n",
        "y_pred = [0, 0, 2, 2, 0, 2]\n",
        "confusion_matrix(y_true, y_pred)"
      ]
    },
    {
      "cell_type": "code",
      "execution_count": null,
      "metadata": {
        "id": "cXW2Zz2RUTFV",
        "outputId": "61cea645-2150-4805-99f6-a49941ea2640"
      },
      "outputs": [
        {
          "data": {
            "text/plain": [
              "array([[2, 0, 0],\n",
              "       [0, 1, 0],\n",
              "       [1, 0, 2]], dtype=int64)"
            ]
          },
          "execution_count": 85,
          "metadata": {},
          "output_type": "execute_result"
        }
      ],
      "source": [
        "y_true = [\"cat\", \"ant\", \"cat\", \"cat\", \"ant\", \"bird\"]\n",
        "y_pred = [\"ant\", \"ant\", \"cat\", \"cat\", \"ant\", \"bird\"]\n",
        "confusion_matrix(y_true, y_pred, labels=[\"ant\", \"bird\", \"cat\"])"
      ]
    },
    {
      "cell_type": "code",
      "execution_count": null,
      "metadata": {
        "id": "ZwLGAi15UTFV",
        "outputId": "9d69f09e-2022-4b96-b4ec-f2f5e62e3de9"
      },
      "outputs": [
        {
          "data": {
            "image/png": "[encoded data removed]",
            "text/plain": [
              "<Figure size 360x360 with 1 Axes>"
            ]
          },
          "metadata": {
            "needs_background": "light"
          },
          "output_type": "display_data"
        }
      ],
      "source": [
        "from sklearn import datasets\n",
        "from sklearn.model_selection import train_test_split\n",
        "from sklearn.preprocessing import StandardScaler\n",
        "from sklearn.svm import SVC\n",
        "from sklearn.metrics import precision_score, recall_score, f1_score, accuracy_score\n",
        "bc = datasets.load_breast_cancer()\n",
        "X = bc.data\n",
        "y = bc.target\n",
        "X_train, X_test, y_train, y_test = train_test_split(X, y, test_size=0.30, random_state=1, stratify=y)\n",
        "# Standardize the data set\n",
        "sc = StandardScaler()\n",
        "sc.fit(X_train)\n",
        "X_train_std = sc.transform(X_train)\n",
        "X_test_std = sc.transform(X_test)\n",
        "# Fit the SVC model\n",
        "svc = SVC(kernel='linear', C=10.0, random_state=1)\n",
        "svc.fit(X_train, y_train)\n",
        "# Get the predictions\n",
        "y_pred = svc.predict(X_test)\n",
        "# Calculate the confusion matrix\n",
        "conf_matrix = confusion_matrix(y_true=y_test, y_pred=y_pred)\n",
        "# Print the confusion matrix using Matplotlib\n",
        "fig, ax = plt.subplots(figsize=(5, 5))\n",
        "ax.matshow(conf_matrix, cmap=plt.cm.Oranges, alpha=0.3)\n",
        "for i in range(conf_matrix.shape[0]):\n",
        "    for j in range(conf_matrix.shape[1]):\n",
        "        ax.text(x=j, y=i,s=conf_matrix[i, j], va='center', ha='center', size='xx-large')\n",
        "plt.xlabel('Predictions', fontsize=18)\n",
        "plt.ylabel('Actuals', fontsize=18)\n",
        "plt.title('Confusion Matrix', fontsize=18)\n",
        "plt.show()"
      ]
    },
    {
      "cell_type": "markdown",
      "metadata": {
        "id": "yxv9QuMMUTFV"
      },
      "source": [
        "#### About above confusion matrix description\n",
        "- **True Positive (TP)**: True positive represents the value of correct predictions of positives out of actual positive cases. Out of 107 actual positive, 104 is correctly predicted positive. Thus, the value of True Positive is 104.\n",
        "- **False Positive (FP)**: False positive represents the value of incorrect positive predictions. This value represents the number of negatives (out of 64) which gets falsely predicted as positive. Out of 64 actual negative, 3 is falsely predicted as positive. Thus, the value of False Positive is 3.\n",
        "- **True Negative (TN)**: True negative represents the value of correct predictions of negatives out of actual negative cases. Out of 64 actual negative, 61 is correctly predicted negative. Thus, the value of True Negative is 61.\n",
        "- **False Negative (FN)**: False negative represents the value of incorrect negative predictions. This value represents the number of positives (out of 107) which gets falsely predicted as negative. Out of 107 actual positive, 3 is falsely predicted as negative. Thus, the value of False Negative is 3."
      ]
    },
    {
      "cell_type": "markdown",
      "metadata": {
        "id": "XP3Ax9lPUTFV"
      },
      "source": [
        "## 3. Questions"
      ]
    },
    {
      "cell_type": "markdown",
      "metadata": {
        "id": "re0VZu6oUTFW"
      },
      "source": [
        "### A. What are the different parameters of the above functions/methods that are part of the above SKLearn modules?\n",
        "\n",
        "- **Parameter of train_test_split module**\n",
        "    - sklearn.model_selection.train_test_split(*arrays, test_size=None, train_size=None, random_state=None, shuffle=True, stratify=None)\n",
        "\n",
        "| | Parameters_name   | value/arguments_input    | Description  |\n",
        "|---:|:-------------|:-----------|:------|\n",
        "| 1 | * arrays  | sequence of indexables with same length / shape[0]       | Allowed inputs are lists, numpy arrays, scipy-sparse matrices or pandas dataframes.  |\n",
        "| 2 | test_size  | float or int, default=None    | If float, should be between 0.0 and 1.0 and represent the proportion of the dataset to include in the test split. If int, represents the absolute number of test samples. If None, the value is set to the complement of the train size. If train_size is also None, it will be set to 0.25.  |\n",
        "| 3 | train_size  | float or int, default=None       | If float, should be between 0.0 and 1.0 and represent the proportion of the dataset to include in the train split. If int, represents the absolute number of train samples. If None, the value is automatically set to the complement of the test size.  |\n",
        "| 4 | random_state  | int, RandomState instance or None, default=None    | Controls the shuffling applied to the data before applying the split. Pass an int for reproducible output across multiple function calls.  |\n",
        "| 5 | shuffle  | bool, default=True       | Whether or not to shuffle the data before splitting. If shuffle=False then stratify must be None.  |\n",
        "| 6 | stratify  | array-like, default=None    | If not None, data is split in a stratified fashion, using this as the class labels.  |\n",
        "\n",
        "<hr/>\n",
        "\n",
        "- **Parameter of make_classification module**\n",
        "    - sklearn.datasets.make_classification(n_samples=100, n_features=20, *, n_informative=2, n_redundant=2, n_repeated=0, n_classes=2, n_clusters_per_class=2, weights=None, flip_y=0.01, class_sep=1.0, hypercube=True, shift=0.0, scale=1.0, shuffle=True, random_state=None)\n",
        "    \n",
        "| | Parameters_name   | value/arguments_input    | Description  |\n",
        "|---:|:-------------|:-----------|:------|\n",
        "| 1 | n_samples  | int, default=100       | The number of samples.  |\n",
        "| 2 | n_features  | int, default=20    | The total number of features. These comprise n_informative informative features, n_redundant redundant features, n_repeated duplicated features and n_features-n_informative-n_redundant-n_repeated useless features drawn at random.  |\n",
        "| 3 | n_informative  | int, default=2       | The number of informative features. Each class is composed of a number of gaussian clusters each located around the vertices of a hypercube in a subspace of dimension n_informative. For each cluster, informative features are drawn independently from N(0, 1) and then randomly linearly combined within each cluster in order to add covariance. The clusters are then placed on the vertices of the hypercube.  |\n",
        "| 4 | n_redundant  | int, default=2    | The number of redundant features. These features are generated as random linear combinations of the informative features.  |\n",
        "| 5 | n_repeated  | int, default=0       | The number of duplicated features, drawn randomly from the informative and the redundant features.  |\n",
        "| 6 | n_classes  | int, default=2    | The number of classes (or labels) of the classification problem.  |\n",
        "| 7 | n_clusters_per_class  | int, default=2       | The number of clusters per class.  |\n",
        "| 8 | weights  | array-like of shape (n_classes,) or (n_classes - 1,), default=None    | The proportions of samples assigned to each class. If None, then classes are balanced. Note that if len(weights) == n_classes - 1, then the last class weight is automatically inferred. More than n_samples samples may be returned if the sum of weights exceeds 1. Note that the actual class proportions will not exactly match weights when flip_y isn’t 0.  |\n",
        "| 9 | flip_y  | float, default=0.01       | The fraction of samples whose class is assigned randomly. Larger values introduce noise in the labels and make the classification task harder. Note that the default setting flip_y > 0 might lead to less than n_classes in y in some cases.  |\n",
        "| 10 | class_sep  | float, default=1.0    | The factor multiplying the hypercube size. Larger values spread out the clusters/classes and make the classification task easier  |\n",
        "| 11 | hypercube  | bool, default=True       | If True, the clusters are put on the vertices of a hypercube. If False, the clusters are put on the vertices of a random polytope.  |\n",
        "| 12 | shift  | float, ndarray of shape (n_features,) or None, default=0.0    | Shift features by the specified value. If None, then features are shifted by a random value drawn in [-class_sep, class_sep]  |\n",
        "| 13 | scale  | float, ndarray of shape (n_features,) or None, default=1.0    | Multiply features by the specified value. If None, then features are scaled by a random value drawn in [1, 100]. Note that scaling happens after shifting.  |\n",
        "| 14 | shuffle  | bool, default=True       | Shuffle the samples and the features  |\n",
        "| 15 | random_state  | int, RandomState instance or None, default=None    | Determines random number generation for dataset creation. Pass an int for reproducible output across multiple function calls.  |\n",
        "\n",
        "<hr/>\n",
        "\n",
        "- **Parameter of load_iris module**\n",
        "    - sklearn.datasets.load_iris(* , return_X_y=False, as_frame=False)\n",
        "\n",
        "| | Parameters_name   | value/arguments_input    | Description  |\n",
        "|---:|:-------------|:-----------|:------|\n",
        "| 1 | return_X_y  | bool, default=False       | If True, returns (data, target) instead of a Bunch object.  |\n",
        "| 2 | as_frame  | bool, default=False    | If True, the data is a pandas DataFrame including columns with appropriate dtypes (numeric). The target is a pandas DataFrame or Series depending on the number of target columns. If return_X_y is True, then (data, target) will be pandas DataFrames or Series  |\n",
        "\n",
        "<hr/>\n",
        "\n",
        "- **Parameter of make_regression module**\n",
        "    - sklearn.datasets.make_regression(n_samples=100, n_features=100, * , n_informative=10, n_targets=1, bias=0.0, effective_rank=None, tail_strength=0.5, noise=0.0, shuffle=True, coef=False, random_state=None)\n",
        "\n",
        "| | Parameters_name   | value/arguments_input    | Description  |\n",
        "|---:|:-------------|:-----------|:------|\n",
        "| 1 | n_samples  | int, default=100       | The number of samples.  |\n",
        "| 2 | n_features  | int, default=100    | The number of features.  |\n",
        "| 3 | n_informative  | int, default=10       | The number of informative features, i.e., the number of features used to build the linear model used to generate the output.  |\n",
        "| 4 | n_targets  | int, default=1    | The number of regression targets, i.e., the dimension of the y output vector associated with a sample. By default, the output is a scalar.  |\n",
        "| 5 | bias  | float, default=0.0       | The bias term in the underlying linear model.  |\n",
        "| 6 | effective_rank  | int, default=None    | if not None:The approximate number of singular vectors required to explain most of the input data by linear combinations. Using this kind of singular spectrum in the input allows the generator to reproduce the correlations often observed in practice.if None:The input set is well conditioned, centered and gaussian with unit variance. |\n",
        "| 7 | tail_strength  | float, default=0.5       | The relative importance of the fat noisy tail of the singular values profile if effective_rank is not None. When a float, it should be between 0 and 1.  |\n",
        "| 8 | noise  | float, default=0.0    | The standard deviation of the gaussian noise applied to the output.  |\n",
        "| 9 | shuffle  | bool, default=True       | Shuffle the samples and the features.  |\n",
        "| 10 | coef  | bool, default=False    | If True, the coefficients of the underlying linear model are returned.  |\n",
        "| 11 | random_state  | int, RandomState instance or None, default=None       | Determines random number generation for dataset creation. Pass an int for reproducible output across multiple function calls.  |\n",
        "\n",
        "<hr/>\n",
        "\n",
        "- **Parameter of load_boston module**\n",
        "    - sklearn.datasets.load_boston(* , return_X_y=False)\n",
        "\n",
        "| | Parameters_name   | value/arguments_input    | Description  |\n",
        "|---:|:-------------|:-----------|:------|\n",
        "| 1 | return_X_y  | bool, default=False       | If True, returns (data, target) instead of a Bunch object.  |\n",
        "\n",
        "<hr/>\n",
        "\n",
        "- **Parameter of DummyClassifier module**\n",
        "    - sklearn.dummy.DummyClassifier(* , strategy='prior', random_state=None, constant=None)\n",
        "\n",
        "| | Parameters_name   | value/arguments_input    | Description  |\n",
        "|---:|:-------------|:-----------|:------|\n",
        "| 1 | strategy  | {“most_frequent”, “prior”, “stratified”, “uniform”, “constant”}, default=”prior”       | Strategy to use to generate predictions.  |\n",
        "| 2 | random_state  | int, RandomState instance or None, default=None    | Controls the randomness to generate the predictions when strategy='stratified' or strategy='uniform'. Pass an int for reproducible output across multiple function calls.  |\n",
        "| 3 | constant  | int or str or array-like of shape (n_outputs,), default=None       | The explicit constant as predicted by the “constant” strategy. This parameter is useful only for the “constant” strategy.  |\n",
        "\n",
        "<hr/>\n",
        "\n",
        "- **Parameter of DummyRegressor module**\n",
        "    - sklearn.dummy.DummyRegressor(* , strategy='mean', constant=None, quantile=None)\n",
        "\n",
        "| | Parameters_name   | value/arguments_input    | Description  |\n",
        "|---:|:-------------|:-----------|:------|\n",
        "| 1 | strategy  | {“mean”, “median”, “quantile”, “constant”}, default=”mean”       | Strategy to use to generate predictions.  |\n",
        "| 2 | constant  | int or float or array-like of shape (n_outputs,), default=None    | The explicit constant as predicted by the “constant” strategy. This parameter is useful only for the “constant” strategy.  |\n",
        "| 3 | quantile  | float in [0.0, 1.0], default=None       | The quantile to predict using the “quantile” strategy. A quantile of 0.5 corresponds to the median, while 0.0 to the minimum and 1.0 to the maximum.  |\n",
        "\n",
        "<hr/>\n",
        "\n",
        "- **Parameter of accuracy_score module**\n",
        "    - sklearn.metrics.accuracy_score(y_true, y_pred, * , normalize=True, sample_weight=None)\n",
        "\n",
        "| | Parameters_name   | value/arguments_input    | Description  |\n",
        "|---:|:-------------|:-----------|:------|\n",
        "| 1 | y_true  | 1d array-like, or label indicator array / sparse matrix      | Ground truth (correct) labels.  |\n",
        "| 2 | y_pred  | 1d array-like, or label indicator array / sparse matrix    | Predicted labels, as returned by a classifier.  |\n",
        "| 3 | normalize  | bool, default=True       | If False, return the number of correctly classified samples. Otherwise, return the fraction of correctly classified samples.  |\n",
        "| 4 | sample_weight  | array-like of shape (n_samples,), default=None    | Sample weights.  |\n",
        "\n",
        "<hr/>\n",
        "\n",
        "- **Parameter of classification_report module**\n",
        "    - sklearn.metrics.classification_report(y_true, y_pred, * , labels=None, target_names=None, sample_weight=None, digits=2, output_dict=False, zero_division='warn')\n",
        "\n",
        "| | Parameters_name   | value/arguments_input    | Description  |\n",
        "|---:|:-------------|:-----------|:------|\n",
        "| 1 | y_true  | 1d array-like, or label indicator array / sparse matrix      | Ground truth (correct) target values.  |\n",
        "| 2 | y_pred  | 1d array-like, or label indicator array / sparse matrix    | Estimated targets as returned by a classifier.  |\n",
        "| 3 | labels  | array-like of shape (n_labels,), default=None       | Optional list of label indices to include in the report.  |\n",
        "| 4 | target_names  | list of str of shape (n_labels,), default=None    | Optional display names matching the labels (same order).  |\n",
        "| 5 | sample_weight  | array-like of shape (n_samples,), default=None       | Sample weights.  |\n",
        "| 6 | digits  | int, default=2    | Number of digits for formatting output floating point values. When output_dict is True, this will be ignored and the returned values will not be rounded. |\n",
        "| 7 | output_dict  | bool, default=False       | If True, return output as dict  |\n",
        "| 8 | zero_division  | “warn”, 0 or 1, default=”warn”   | Sets the value to return when there is a zero division. If set to “warn”, this acts as 0, but warnings are also raised.  |\n",
        "\n",
        "<hr/>\n",
        "\n",
        "- **Parameter of classification_report module**\n",
        "    - sklearn.metrics.confusion_matrix(y_true, y_pred, * , labels=None, sample_weight=None, normalize=None)\n",
        "    \n",
        "| | Parameters_name   | value/arguments_input    | Description  |\n",
        "|---:|:-------------|:-----------|:------|\n",
        "| 1 | y_true  | array-like of shape (n_samples,)      | Ground truth (correct) target values.  |\n",
        "| 2 | y_pred  | array-like of shape (n_samples,)    | Estimated targets as returned by a classifier.  |\n",
        "| 3 | labels  | array-like of shape (n_classess,), default=None       | List of labels to index the matrix. This may be used to reorder or select a subset of labels. If None is given, those that appear at least once in y_true or y_pred are used in sorted order.  |\n",
        "| 4 | sample_weight  | array-like of shape (n_samples,), default=None       | Sample weights.  |\n",
        "| 5 | normalize  | ‘true’, ‘pred’, ‘all’}, default=None    | Normalizes confusion matrix over the true (rows), predicted (columns) conditions or all the population. If None, confusion matrix will not be normalized.  |"
      ]
    },
    {
      "cell_type": "markdown",
      "metadata": {
        "id": "dGPEFd-7UTFW"
      },
      "source": [
        "### B. What is the effect, when you modify certain parameters that are present in the same?\n",
        "- All parameter details with the modification details are mentioned in above answer in description column.\n",
        "- in DummyClassifier and DummyRegressor module strategy parameter not described so i describing here\n",
        "\n",
        "- DummyClassifier\n",
        "   - strategry\n",
        "       - \"most_frequent”: the predict method always returns the most frequent class label in the observed y argument passed to fit. The predict_proba method returns the matching one-hot encoded vector.\n",
        "       - “prior”: the predict method always returns the most frequent class label in the observed y argument passed to fit (like “most_frequent”). predict_proba always returns the empirical class distribution of y also known as the empirical class prior distribution.\n",
        "       - “stratified”: the predict_proba method randomly samples one-hot vectors from a multinomial distribution parametrized by the empirical class prior probabilities. The predict method returns the class label which got probability one in the one-hot vector of predict_proba. Each sampled row of both methods is therefore independent and identically distributed.\n",
        "       - “uniform”: generates predictions uniformly at random from the list of unique classes observed in y, i.e. each class has equal probability.\n",
        "       - “constant”: always predicts a constant label that is provided by the user. This is useful for metrics that evaluate a non-majority class.\n",
        "- DummyRegressor\n",
        "   - Strategy\n",
        "        - “mean”: always predicts the mean of the training set\n",
        "        - “median”: always predicts the median of the training set\n",
        "        - “quantile”: always predicts a specified quantile of the training set, provided with the quantile parameter.\n",
        "        - “constant”: always predicts a constant value that is provided by the user."
      ]
    },
    {
      "cell_type": "markdown",
      "metadata": {
        "id": "P9zSG7XvUTFW"
      },
      "source": [
        "### C. How to get different train and test datasets?\n",
        "- Change the 'random state' to different number\n",
        "- syntax parameter\n",
        "> random_state: int, RandomState instance or None, default=None\n",
        "- Controls the shuffling applied to the data before applying the split. Pass an int for reproducible output across multiple function calls.\n",
        "- Use a new random number generator seeded by the given integer. Using an int will produce the same results across different calls. However, it may be worthwhile checking that your results are stable across a number of different distinct random seeds. Popular integer random seeds are 0 and 42.\n",
        "<hr/>\n",
        "- first of all, training data and testing data come from a single dataset. It is the main data set that is split into training and testing that means training and testing data will have the same features. When you train a model on a training set it just finds the right set of parameters that will make the predicted value as close to the actual value and when you make predictions on the testing data the model just uses the same set of parameters that it found during training to do prediction on test data.\n",
        "\n",
        "- In the case of Simple Linear Regression these parameters are intercept and slope of a line. Once the model finds them, it uses the same parameters to make predictions on the test set.\n",
        "\n",
        "- We can seprate dataset using three library\n",
        "    1. Using pandas\n",
        "    1. using numpy\n",
        "    1. train_test_split() from sklearn\n",
        "- Below I'm showing example of these spliting methods\n"
      ]
    },
    {
      "cell_type": "markdown",
      "metadata": {
        "id": "HWkmnxvjUTFW"
      },
      "source": [
        "#### Spliting using pandas"
      ]
    },
    {
      "cell_type": "code",
      "execution_count": null,
      "metadata": {
        "id": "M_8dW4j7UTFX",
        "outputId": "a0099e97-d601-4c60-a606-093216e31459"
      },
      "outputs": [
        {
          "name": "stdout",
          "output_type": "stream",
          "text": [
            "     sepal length (cm)  sepal width (cm)  petal length (cm)  petal width (cm)\n",
            "0                  5.1               3.5                1.4               0.2\n",
            "1                  4.9               3.0                1.4               0.2\n",
            "2                  4.7               3.2                1.3               0.2\n",
            "3                  4.6               3.1                1.5               0.2\n",
            "4                  5.0               3.6                1.4               0.2\n",
            "..                 ...               ...                ...               ...\n",
            "145                6.7               3.0                5.2               2.3\n",
            "146                6.3               2.5                5.0               1.9\n",
            "147                6.5               3.0                5.2               2.0\n",
            "148                6.2               3.4                5.4               2.3\n",
            "149                5.9               3.0                5.1               1.8\n",
            "\n",
            "[150 rows x 4 columns]\n",
            "No. of training examples: 120\n",
            "No. of testing examples: 30\n"
          ]
        }
      ],
      "source": [
        "import pandas as pd\n",
        "from sklearn.datasets import load_iris\n",
        "iris_data = load_iris()\n",
        "df = pd.DataFrame(iris_data.data, columns=iris_data.feature_names)\n",
        "print(df)\n",
        "training_data = df.sample(frac=0.8, random_state=25) # We initially create the training set by taking a sample with a fraction of 0.8\n",
        "testing_data = df.drop(training_data.index)\n",
        "\n",
        "print(f\"No. of training examples: {training_data.shape[0]}\")\n",
        "print(f\"No. of testing examples: {testing_data.shape[0]}\")"
      ]
    },
    {
      "cell_type": "markdown",
      "metadata": {
        "id": "CIwD29bTUTFX"
      },
      "source": [
        "#### Spliting using numpy"
      ]
    },
    {
      "cell_type": "code",
      "execution_count": null,
      "metadata": {
        "id": "BL6u_B0vUTFX",
        "outputId": "7ca2c309-43c6-469f-aa56-fae54df94917"
      },
      "outputs": [
        {
          "name": "stdout",
          "output_type": "stream",
          "text": [
            "No. of training examples: 116\n",
            "No. of testing examples: 34\n"
          ]
        }
      ],
      "source": [
        "import numpy as np\n",
        "mask = np.random.rand(len(df)) <= 0.8\n",
        "training_data = df[mask]\n",
        "testing_data = df[~mask]\n",
        "\n",
        "print(f\"No. of training examples: {training_data.shape[0]}\")\n",
        "print(f\"No. of testing examples: {testing_data.shape[0]}\")"
      ]
    },
    {
      "cell_type": "markdown",
      "metadata": {
        "id": "6jkWDSlHUTFX"
      },
      "source": [
        "#### Using sklearn"
      ]
    },
    {
      "cell_type": "code",
      "execution_count": null,
      "metadata": {
        "id": "oF0aTu4KUTFX",
        "outputId": "6c76162f-7325-481c-d007-b2b683ae813a"
      },
      "outputs": [
        {
          "name": "stdout",
          "output_type": "stream",
          "text": [
            "No. of training examples: 120\n",
            "No. of testing examples: 30\n"
          ]
        }
      ],
      "source": [
        "from sklearn.model_selection import train_test_split\n",
        "\n",
        "training_data, testing_data = train_test_split(df, test_size=0.2, random_state=25)\n",
        "\n",
        "print(f\"No. of training examples: {training_data.shape[0]}\")\n",
        "print(f\"No. of testing examples: {testing_data.shape[0]}\")"
      ]
    },
    {
      "cell_type": "markdown",
      "metadata": {
        "id": "PugPxIX-UTFX"
      },
      "source": [
        "### D. Identify which are features and which are targets in Part 1b, and Part 1c (make_classification and make_regression would depend on your inputs on the function call)\n",
        "\n",
        "- There are three features in the make_classification\n",
        "    1. imformative features\n",
        "    1. redundant features\n",
        "    1. duplicate features\n",
        "- In example we used redundant features and imformative features\n",
        "- There is only imformative feature in the make_regression\n",
        "- In example we use 1 imformative feature expieriance vs salary example\n",
        "- In example we set one regression targets\n",
        "\n",
        "- Description of imformative features\n",
        "    - The number of informative features, i.e., the number of features used to build the linear model used to generate the output.\n",
        "- redundant features\n",
        "    - The number of redundant features. These features are generated as random linear combinations of the informative features.\n",
        "- duplicate features\n",
        "    - The number of duplicated features, drawn randomly from the informative and the redundant features.\n",
        "    \n",
        "- target\n",
        "    - The number of regression targets, i.e., the dimension of the y output vector associated with a sample. By default, the output is a scalar.\n"
      ]
    },
    {
      "cell_type": "markdown",
      "metadata": {
        "id": "UC8iB4V3UTFX"
      },
      "source": [
        "#### Example of make_classification"
      ]
    },
    {
      "cell_type": "code",
      "execution_count": null,
      "metadata": {
        "id": "CkEIanuTUTFY"
      },
      "outputs": [],
      "source": [
        "from sklearn.datasets import make_classification"
      ]
    },
    {
      "cell_type": "code",
      "execution_count": null,
      "metadata": {
        "id": "kOVBKW8YUTFY"
      },
      "outputs": [],
      "source": [
        "n_classes = 2\n",
        "X, y = make_classification(n_samples=200, n_classes=n_classes,\n",
        " n_features=5, n_informative=3, n_redundant=0,\n",
        " random_state=0)\n"
      ]
    },
    {
      "cell_type": "code",
      "execution_count": null,
      "metadata": {
        "id": "m0XsKDSDUTFY",
        "outputId": "66b7e408-5ccc-4613-ba46-44ad79febceb"
      },
      "outputs": [
        {
          "data": {
            "text/html": [
              "<div>\n",
              "<style scoped>\n",
              "    .dataframe tbody tr th:only-of-type {\n",
              "        vertical-align: middle;\n",
              "    }\n",
              "\n",
              "    .dataframe tbody tr th {\n",
              "        vertical-align: top;\n",
              "    }\n",
              "\n",
              "    .dataframe thead th {\n",
              "        text-align: right;\n",
              "    }\n",
              "</style>\n",
              "<table border=\"1\" class=\"dataframe\">\n",
              "  <thead>\n",
              "    <tr style=\"text-align: right;\">\n",
              "      <th></th>\n",
              "      <th>feature1</th>\n",
              "      <th>feature2</th>\n",
              "      <th>feature3</th>\n",
              "      <th>feature4</th>\n",
              "      <th>feature5</th>\n",
              "    </tr>\n",
              "  </thead>\n",
              "  <tbody>\n",
              "    <tr>\n",
              "      <th>0</th>\n",
              "      <td>2.145864</td>\n",
              "      <td>3.117450</td>\n",
              "      <td>0.966481</td>\n",
              "      <td>0.760783</td>\n",
              "      <td>-0.072585</td>\n",
              "    </tr>\n",
              "    <tr>\n",
              "      <th>1</th>\n",
              "      <td>2.726048</td>\n",
              "      <td>2.821483</td>\n",
              "      <td>-1.601610</td>\n",
              "      <td>-0.262019</td>\n",
              "      <td>1.391790</td>\n",
              "    </tr>\n",
              "    <tr>\n",
              "      <th>2</th>\n",
              "      <td>-2.733082</td>\n",
              "      <td>-0.280277</td>\n",
              "      <td>-0.274490</td>\n",
              "      <td>0.051597</td>\n",
              "      <td>-0.961418</td>\n",
              "    </tr>\n",
              "    <tr>\n",
              "      <th>3</th>\n",
              "      <td>2.711964</td>\n",
              "      <td>2.436597</td>\n",
              "      <td>1.016195</td>\n",
              "      <td>0.699210</td>\n",
              "      <td>-0.219670</td>\n",
              "    </tr>\n",
              "    <tr>\n",
              "      <th>4</th>\n",
              "      <td>-1.971324</td>\n",
              "      <td>-2.333960</td>\n",
              "      <td>0.162118</td>\n",
              "      <td>0.750761</td>\n",
              "      <td>0.210131</td>\n",
              "    </tr>\n",
              "    <tr>\n",
              "      <th>...</th>\n",
              "      <td>...</td>\n",
              "      <td>...</td>\n",
              "      <td>...</td>\n",
              "      <td>...</td>\n",
              "      <td>...</td>\n",
              "    </tr>\n",
              "    <tr>\n",
              "      <th>195</th>\n",
              "      <td>-1.761050</td>\n",
              "      <td>0.123846</td>\n",
              "      <td>-0.047129</td>\n",
              "      <td>0.096311</td>\n",
              "      <td>0.315431</td>\n",
              "    </tr>\n",
              "    <tr>\n",
              "      <th>196</th>\n",
              "      <td>2.023089</td>\n",
              "      <td>2.042401</td>\n",
              "      <td>0.996739</td>\n",
              "      <td>0.483377</td>\n",
              "      <td>-0.138635</td>\n",
              "    </tr>\n",
              "    <tr>\n",
              "      <th>197</th>\n",
              "      <td>-0.662884</td>\n",
              "      <td>0.365275</td>\n",
              "      <td>0.046045</td>\n",
              "      <td>0.252735</td>\n",
              "      <td>0.860821</td>\n",
              "    </tr>\n",
              "    <tr>\n",
              "      <th>198</th>\n",
              "      <td>2.735830</td>\n",
              "      <td>-1.131430</td>\n",
              "      <td>1.646506</td>\n",
              "      <td>-0.626980</td>\n",
              "      <td>2.429695</td>\n",
              "    </tr>\n",
              "    <tr>\n",
              "      <th>199</th>\n",
              "      <td>-1.343553</td>\n",
              "      <td>-1.866639</td>\n",
              "      <td>0.429767</td>\n",
              "      <td>-0.653127</td>\n",
              "      <td>-0.144626</td>\n",
              "    </tr>\n",
              "  </tbody>\n",
              "</table>\n",
              "<p>200 rows × 5 columns</p>\n",
              "</div>"
            ],
            "text/plain": [
              "     feature1  feature2  feature3  feature4  feature5\n",
              "0    2.145864  3.117450  0.966481  0.760783 -0.072585\n",
              "1    2.726048  2.821483 -1.601610 -0.262019  1.391790\n",
              "2   -2.733082 -0.280277 -0.274490  0.051597 -0.961418\n",
              "3    2.711964  2.436597  1.016195  0.699210 -0.219670\n",
              "4   -1.971324 -2.333960  0.162118  0.750761  0.210131\n",
              "..        ...       ...       ...       ...       ...\n",
              "195 -1.761050  0.123846 -0.047129  0.096311  0.315431\n",
              "196  2.023089  2.042401  0.996739  0.483377 -0.138635\n",
              "197 -0.662884  0.365275  0.046045  0.252735  0.860821\n",
              "198  2.735830 -1.131430  1.646506 -0.626980  2.429695\n",
              "199 -1.343553 -1.866639  0.429767 -0.653127 -0.144626\n",
              "\n",
              "[200 rows x 5 columns]"
            ]
          },
          "execution_count": 32,
          "metadata": {},
          "output_type": "execute_result"
        }
      ],
      "source": [
        "pd.DataFrame(X,columns=['feature1','feature2','feature3','feature4','feature5'])"
      ]
    },
    {
      "cell_type": "code",
      "execution_count": null,
      "metadata": {
        "id": "mn7ClgQ6UTFY",
        "outputId": "3618ff52-7922-4f4c-a626-b8ed119a7c1f"
      },
      "outputs": [
        {
          "data": {
            "text/html": [
              "<div>\n",
              "<style scoped>\n",
              "    .dataframe tbody tr th:only-of-type {\n",
              "        vertical-align: middle;\n",
              "    }\n",
              "\n",
              "    .dataframe tbody tr th {\n",
              "        vertical-align: top;\n",
              "    }\n",
              "\n",
              "    .dataframe thead th {\n",
              "        text-align: right;\n",
              "    }\n",
              "</style>\n",
              "<table border=\"1\" class=\"dataframe\">\n",
              "  <thead>\n",
              "    <tr style=\"text-align: right;\">\n",
              "      <th></th>\n",
              "      <th>0</th>\n",
              "    </tr>\n",
              "  </thead>\n",
              "  <tbody>\n",
              "    <tr>\n",
              "      <th>0</th>\n",
              "      <td>1</td>\n",
              "    </tr>\n",
              "    <tr>\n",
              "      <th>1</th>\n",
              "      <td>1</td>\n",
              "    </tr>\n",
              "    <tr>\n",
              "      <th>2</th>\n",
              "      <td>0</td>\n",
              "    </tr>\n",
              "    <tr>\n",
              "      <th>3</th>\n",
              "      <td>1</td>\n",
              "    </tr>\n",
              "    <tr>\n",
              "      <th>4</th>\n",
              "      <td>1</td>\n",
              "    </tr>\n",
              "    <tr>\n",
              "      <th>...</th>\n",
              "      <td>...</td>\n",
              "    </tr>\n",
              "    <tr>\n",
              "      <th>195</th>\n",
              "      <td>0</td>\n",
              "    </tr>\n",
              "    <tr>\n",
              "      <th>196</th>\n",
              "      <td>1</td>\n",
              "    </tr>\n",
              "    <tr>\n",
              "      <th>197</th>\n",
              "      <td>0</td>\n",
              "    </tr>\n",
              "    <tr>\n",
              "      <th>198</th>\n",
              "      <td>0</td>\n",
              "    </tr>\n",
              "    <tr>\n",
              "      <th>199</th>\n",
              "      <td>0</td>\n",
              "    </tr>\n",
              "  </tbody>\n",
              "</table>\n",
              "<p>200 rows × 1 columns</p>\n",
              "</div>"
            ],
            "text/plain": [
              "     0\n",
              "0    1\n",
              "1    1\n",
              "2    0\n",
              "3    1\n",
              "4    1\n",
              "..  ..\n",
              "195  0\n",
              "196  1\n",
              "197  0\n",
              "198  0\n",
              "199  0\n",
              "\n",
              "[200 rows x 1 columns]"
            ]
          },
          "execution_count": 33,
          "metadata": {},
          "output_type": "execute_result"
        }
      ],
      "source": [
        "pd.DataFrame(y) # target"
      ]
    },
    {
      "cell_type": "markdown",
      "metadata": {
        "id": "5qOnag7RUTFY"
      },
      "source": [
        "#### Example of make_regression"
      ]
    },
    {
      "cell_type": "code",
      "execution_count": null,
      "metadata": {
        "id": "wDIKtkQSUTFY",
        "outputId": "3f3418ac-b50f-4a5a-ec29-7067b8e1c1fe"
      },
      "outputs": [
        {
          "data": {
            "text/plain": [
              "array([[-0.43776423,  0.3450723 , -0.70274657, ...,  1.49582944,\n",
              "         1.37510238,  0.78921457],\n",
              "       [ 0.46009508,  0.16484046, -1.65326023, ..., -0.32048066,\n",
              "         0.53618241, -0.27637741],\n",
              "       [ 1.2694783 ,  1.17300433, -0.36369644, ..., -0.77540656,\n",
              "        -1.08770057, -0.63799501],\n",
              "       ...,\n",
              "       [ 0.02664268, -0.15380038, -0.76450911, ..., -0.51798146,\n",
              "         1.64040458, -0.60112202],\n",
              "       [-0.73307398,  0.11704793,  0.6437246 , ..., -0.87107409,\n",
              "         0.22063991, -0.14345723],\n",
              "       [ 2.5877473 ,  0.27272659,  0.69276607, ...,  1.05513539,\n",
              "         0.1305241 , -0.28536906]])"
            ]
          },
          "execution_count": 34,
          "metadata": {},
          "output_type": "execute_result"
        }
      ],
      "source": [
        "from sklearn.datasets import make_regression\n",
        "X_reg, y_reg = make_regression(n_targets=1)\n",
        "X_reg"
      ]
    },
    {
      "cell_type": "code",
      "execution_count": null,
      "metadata": {
        "id": "hxOgKZZdUTFY",
        "outputId": "4131c24b-2af4-46b4-b28c-35ba79e7a2ab"
      },
      "outputs": [
        {
          "data": {
            "text/plain": [
              "array([-124.71150465,    6.9089235 ,  106.64783657,    3.5683047 ,\n",
              "       -123.86560935,  235.1965951 ,  168.68219431,  421.89537949,\n",
              "         87.4193244 ,  -44.52667467,   11.49200395,   93.38507061,\n",
              "        189.35271345, -101.44079521, -281.17997709,    1.36676148,\n",
              "        495.46663519,  264.07192651,  271.39253345, -125.13857288,\n",
              "        -77.50178878, -172.95808196,  108.34119866,   -0.8419017 ,\n",
              "         49.61899865,  284.45847166,  114.64813166, -110.683547  ,\n",
              "        105.82686377,  258.65671197,  241.62408296,  586.6672047 ,\n",
              "        217.58100906,   40.53381201,   78.26435572,  163.42719839,\n",
              "        -88.21945353,  382.83831588, -194.56658919,  -31.18830337,\n",
              "        -45.32474055,  -86.80195746,   95.06400779, -324.79957024,\n",
              "       -527.99703315,   99.3153066 , -103.99650186,  -42.82180911,\n",
              "       -121.93405648,   87.59675628, -228.92574022, -263.73911043,\n",
              "        164.07503503,  295.11737214, -257.59611521, -141.21937384,\n",
              "         -8.46472738,  -33.96859948,  335.06340525,   42.96760566,\n",
              "       -429.54727329,   65.19467505, -135.09094052,  415.42985496,\n",
              "        -85.37841187,  -73.68142978,  153.31214569,  138.10065543,\n",
              "         32.58911708, -274.59445163, -135.73586507, -191.05453128,\n",
              "         51.47456443,   49.78237698,  248.9609223 ,  300.18636239,\n",
              "         51.55075955,  350.78305928, -117.31175576,  130.84202654,\n",
              "        -61.02695024, -196.22119212,  -74.03768662,   97.43171982,\n",
              "       -237.03810965,   27.93784273,   12.64866297,   39.68585788,\n",
              "        -13.87856032, -234.23812716,  -39.56576169,   70.7024796 ,\n",
              "       -402.06282632,  270.13291127,  218.94563151, -111.44447478,\n",
              "        246.31828663, -332.09855666, -127.68164084,  346.78036307])"
            ]
          },
          "execution_count": 35,
          "metadata": {},
          "output_type": "execute_result"
        }
      ],
      "source": [
        "y_reg"
      ]
    },
    {
      "cell_type": "markdown",
      "metadata": {
        "id": "vMF82QP1UTFY"
      },
      "source": [
        "### E. Identify what the things mentioned in Part 1d stands for. \n",
        "\n",
        "- In the example we use dummyclassifier for prediction of array with the all strategy for generate prediction\n",
        "- Controls the randomness to generate the predictions when strategy='stratified' or strategy='uniform'. Pass an int for reproducible output across multiple function calls.\n",
        "- **Below are the strategies used by the dummy classifier to predict a class label**\n",
        "    - **Most Frequent**: The classifier always predicts the most frequent class label in the training data.\n",
        "    - **Stratified**: It generates predictions by respecting the class distribution of the training data. It is different from the “most frequent” strategy as it instead associates a probability with each data point of being the most frequent class label.\n",
        "    - **Uniform**: It generates predictions uniformly at random.\n",
        "    - **Constant**: The classifier always predicts a constant label and is primarily used when classifying non-majority class labels.\n",
        "- **Methods**\n",
        "| | Method_name   | Description  |\n",
        "|---:|:-------------|:-----------|\n",
        "| 1 | fit(X, y[, sample_weight])  | Fit the baseline classifier.      |\n",
        "| 2 | get_params([deep])  | Get parameters for this estimator.      |\n",
        "| 3 | predict(X)  | Perform classification on test vectors X      |\n",
        "| 4 | predict_log_proba(X)  | Return log probability estimates for the test vectors X.      |\n",
        "| 5 | predict_proba(X)  | Return probability estimates for the test vectors X.      |\n",
        "| 6 | score(X, y[, sample_weight])  | Return the mean accuracy on the given test data and labels.     |\n",
        "| 7 | set_params(** params)  | Set the parameters of this estimator.      |\n"
      ]
    },
    {
      "cell_type": "markdown",
      "metadata": {
        "id": "4jr8o_C_UTFZ"
      },
      "source": [
        "#### Example of DummyClassifier"
      ]
    },
    {
      "cell_type": "code",
      "execution_count": null,
      "metadata": {
        "id": "NtR6bN0pUTFZ"
      },
      "outputs": [],
      "source": [
        "X_train, X_test, y_train, y_test = train_test_split(X, y,test_size=0.4,random_state=24)"
      ]
    },
    {
      "cell_type": "code",
      "execution_count": null,
      "metadata": {
        "id": "AEeNCImGUTFZ",
        "outputId": "9988b0b9-09ca-46d5-e6df-7e6fc332a48f"
      },
      "outputs": [
        {
          "data": {
            "text/plain": [
              "[0.4875, 0.4875, 0.5375, 0.4875]"
            ]
          },
          "execution_count": 37,
          "metadata": {},
          "output_type": "execute_result"
        }
      ],
      "source": [
        "strategies = ['most_frequent','stratified','uniform','constant']\n",
        "test_scores = []\n",
        "for s in strategies:\n",
        "    if s =='constant':\n",
        "        dclf = DummyClassifier(strategy = s, random_state = 0, constant =0)\n",
        "    else:\n",
        "        dclf = DummyClassifier(strategy = s, random_state = 0)\n",
        "    dclf.fit(X_train, y_train)\n",
        "    score = dclf.score(X_test, y_test)\n",
        "    test_scores.append(score)\n",
        "test_scores"
      ]
    },
    {
      "cell_type": "code",
      "execution_count": null,
      "metadata": {
        "id": "4ra8FoxpUTFZ",
        "outputId": "b9511135-6879-443b-b1a7-4199d07296c7"
      },
      "outputs": [
        {
          "data": {
            "text/plain": [
              "array([0, 0, 1, 0, 0, 0, 0, 1, 0, 0, 1, 1, 0, 1, 0, 1, 1, 0, 1, 0, 0, 0,\n",
              "       0, 0, 0, 1, 0, 0, 0, 0, 0, 0, 1, 0, 0, 0, 1, 1, 0, 1, 1, 0, 1, 0,\n",
              "       1, 0, 0, 1, 1, 1, 1, 0, 0, 1, 0, 0, 0, 0, 1, 1, 1, 1, 1, 0, 0, 1,\n",
              "       0, 0, 1, 0, 0, 0, 0, 0, 1, 1, 0, 0, 1, 0])"
            ]
          },
          "execution_count": 39,
          "metadata": {},
          "output_type": "execute_result"
        }
      ],
      "source": [
        "dclf_class = DummyClassifier(strategy = 'stratified',random_state=2)\n",
        "dclf_class.fit(X_train, y_train)\n",
        "dclf_class.predict(X_test)"
      ]
    },
    {
      "cell_type": "markdown",
      "metadata": {
        "id": "3CFZ0nwGUTFZ"
      },
      "source": [
        "#### DummyRegressor"
      ]
    },
    {
      "cell_type": "code",
      "execution_count": null,
      "metadata": {
        "id": "bLMPzz2RUTFZ"
      },
      "outputs": [],
      "source": [
        "X_train_reg, X_test_reg, y_train_reg, y_test_reg = train_test_split(X_reg, y_reg,test_size=0.4,random_state=24)"
      ]
    },
    {
      "cell_type": "code",
      "execution_count": null,
      "metadata": {
        "id": "7xXq1NkkUTFZ",
        "outputId": "f7968c0b-6054-4379-dbec-d87cd0c48549"
      },
      "outputs": [
        {
          "data": {
            "text/plain": [
              "[-0.2979634269881348,\n",
              " -0.3128243722891888,\n",
              " -9.223630756858014,\n",
              " -2.0694572610329587]"
            ]
          },
          "execution_count": 42,
          "metadata": {},
          "output_type": "execute_result"
        }
      ],
      "source": [
        "from sklearn.dummy import DummyRegressor\n",
        "strategies = ['mean','median','quantile','constant']\n",
        "test_scores = []\n",
        "for s in strategies:\n",
        "    if s =='constant':\n",
        "        dclf = DummyRegressor(strategy = s, constant =0)\n",
        "    elif s == 'quantile':\n",
        "        dclf = DummyRegressor(strategy = s, quantile =0.4)\n",
        "    else:\n",
        "        dclf = DummyRegressor(strategy = s)\n",
        "    dclf.fit(X_train_reg, y_train_reg)\n",
        "    score = dclf.score(X_test_reg, y_test_reg)\n",
        "    test_scores.append(score*100)\n",
        "test_scores"
      ]
    },
    {
      "cell_type": "code",
      "execution_count": null,
      "metadata": {
        "id": "59_XlHK_UTFa",
        "outputId": "6a4409f1-7c6a-4384-deaf-a6cbdf1b7678"
      },
      "outputs": [
        {
          "data": {
            "text/plain": [
              "array([19.71492334, 19.71492334, 19.71492334, 19.71492334, 19.71492334,\n",
              "       19.71492334, 19.71492334, 19.71492334, 19.71492334, 19.71492334,\n",
              "       19.71492334, 19.71492334, 19.71492334, 19.71492334, 19.71492334,\n",
              "       19.71492334, 19.71492334, 19.71492334, 19.71492334, 19.71492334,\n",
              "       19.71492334, 19.71492334, 19.71492334, 19.71492334, 19.71492334,\n",
              "       19.71492334, 19.71492334, 19.71492334, 19.71492334, 19.71492334,\n",
              "       19.71492334, 19.71492334, 19.71492334, 19.71492334, 19.71492334,\n",
              "       19.71492334, 19.71492334, 19.71492334, 19.71492334, 19.71492334])"
            ]
          },
          "execution_count": 47,
          "metadata": {},
          "output_type": "execute_result"
        }
      ],
      "source": [
        "dclf = DummyRegressor(strategy = 'median')\n",
        "dclf.fit(X_train_reg, y_train_reg)\n",
        "dclf.predict(X_test_reg)"
      ]
    },
    {
      "cell_type": "markdown",
      "metadata": {
        "id": "d8_FQbilUTFa"
      },
      "source": [
        "### F. Making use of Part 1d, explore the various options available under Part 1e."
      ]
    },
    {
      "cell_type": "markdown",
      "metadata": {
        "id": "CZCoQ9gIUTFa"
      },
      "source": [
        "#### accuracy_score"
      ]
    },
    {
      "cell_type": "code",
      "execution_count": null,
      "metadata": {
        "id": "l0DWWiT2UTFa",
        "outputId": "97a4fe3f-1df1-4b39-f25b-c615e88738fc"
      },
      "outputs": [
        {
          "name": "stdout",
          "output_type": "stream",
          "text": [
            "Dummy Classifier :  50.0\n"
          ]
        }
      ],
      "source": [
        "from sklearn.metrics import accuracy_score\n",
        "dclass = DummyClassifier(strategy = 'stratified',random_state=2)\n",
        "dclass.fit(X_train, y_train)\n",
        "rs = dclass.predict(X_test)\n",
        "print(\"Dummy Classifier : \",accuracy_score(rs,y_test)*100)"
      ]
    },
    {
      "cell_type": "markdown",
      "metadata": {
        "id": "N4dVBG0qUTFa"
      },
      "source": [
        "#### classification_report"
      ]
    },
    {
      "cell_type": "code",
      "execution_count": null,
      "metadata": {
        "id": "WWCRcfssUTFa",
        "outputId": "b2f64bfd-26a0-412b-846a-bf61bec3e063"
      },
      "outputs": [
        {
          "name": "stdout",
          "output_type": "stream",
          "text": [
            "              precision    recall  f1-score   support\n",
            "\n",
            "           0       0.62      0.49      0.55        49\n",
            "           1       0.39      0.52      0.44        31\n",
            "\n",
            "    accuracy                           0.50        80\n",
            "   macro avg       0.50      0.50      0.49        80\n",
            "weighted avg       0.53      0.50      0.51        80\n",
            "\n"
          ]
        }
      ],
      "source": [
        "from sklearn.metrics import classification_report\n",
        "print(classification_report(rs,y_test,target_names=['0','1']))"
      ]
    },
    {
      "cell_type": "markdown",
      "metadata": {
        "id": "L9NwaIzWUTFb"
      },
      "source": [
        "#### confusion_matrix"
      ]
    },
    {
      "cell_type": "code",
      "execution_count": null,
      "metadata": {
        "id": "DPVBZptRUTFb",
        "outputId": "16df99b3-4ea5-45e1-f03c-fb646cf4da7d"
      },
      "outputs": [
        {
          "name": "stderr",
          "output_type": "stream",
          "text": [
            "C:\\Users\\milan\\anaconda3\\lib\\site-packages\\sklearn\\utils\\deprecation.py:87: FutureWarning: Function plot_confusion_matrix is deprecated; Function `plot_confusion_matrix` is deprecated in 1.0 and will be removed in 1.2. Use one of the class methods: ConfusionMatrixDisplay.from_predictions or ConfusionMatrixDisplay.from_estimator.\n",
            "  warnings.warn(msg, category=FutureWarning)\n"
          ]
        },
        {
          "data": {
            "image/png": "[encoded data removed]",
            "text/plain": [
              "<Figure size 432x288 with 2 Axes>"
            ]
          },
          "metadata": {
            "needs_background": "light"
          },
          "output_type": "display_data"
        }
      ],
      "source": [
        "from sklearn.metrics import plot_confusion_matrix\n",
        "import matplotlib.pyplot as plt\n",
        "plot_confusion_matrix(dclf_class,rs,y_test)\n",
        "plt.show()"
      ]
    },
    {
      "cell_type": "markdown",
      "metadata": {
        "id": "rNKTQVPNUTFb"
      },
      "source": [
        "## 4. Conclusion\n",
        "- The scikit-learn library provides many different algorithms which can be imported into the code and then used to build models just like we would import any other Python library. This makes it easier to quickly build different models and compare these models to select the highest scoring one."
      ]
    },
    {
      "cell_type": "markdown",
      "metadata": {
        "id": "-aUF1Wu8UTFb"
      },
      "source": [
        "## 5. References\n",
        "1. https://scikit-learn.org/stable/modules/generated/sklearn.model_selection.train_test_split.html\n",
        "2. https://scikit-learn.org/stable/modules/generated/sklearn.datasets.make_classification.html\n",
        "3. https://scikit-learn.org/stable/modules/generated/sklearn.datasets.load_iris.html\n",
        "4. https://scikit-learn.org/stable/modules/generated/sklearn.datasets.make_regression.html\n",
        "5. https://scikit-learn.org/stable/modules/generated/sklearn.datasets.load_boston.html\n",
        "6. https://scikit-learn.org/stable/modules/generated/sklearn.dummy.DummyClassifier.html\n",
        "7. https://scikit-learn.org/stable/modules/generated/sklearn.dummy.DummyRegressor.html\n",
        "8. https://scikit-learn.org/stable/modules/generated/sklearn.metrics.accuracy_score.html\n",
        "9. https://scikit-learn.org/stable/modules/generated/sklearn.metrics.classification_report.html\n",
        "10. https://scikit-learn.org/stable/modules/generated/sklearn.metrics.confusion_matrix.html"
      ]
    }
  ],
  "metadata": {
    "kernelspec": {
      "display_name": "Python 3",
      "language": "python",
      "name": "python3"
    },
    "language_info": {
      "codemirror_mode": {
        "name": "ipython",
        "version": 3
      },
      "file_extension": ".py",
      "mimetype": "text/x-python",
      "name": "python",
      "nbconvert_exporter": "python",
      "pygments_lexer": "ipython3",
      "version": "3.8.5"
    },
    "colab": {
      "name": "ML Lab1B_21122026_Milan Jasani.ipynb",
      "provenance": []
    }
  },
  "nbformat": 4,
  "nbformat_minor": 0
}